{
  "cells": [
    {
      "cell_type": "markdown",
      "metadata": {
        "id": "s2i7034MGoVz"
      },
      "source": [
        "### 0. Install Dependencies"
      ]
    },
    {
      "cell_type": "code",
      "execution_count": 2,
      "metadata": {
        "colab": {
          "base_uri": "https://localhost:8080/"
        },
        "id": "k8fXqRIB_tOQ",
        "outputId": "83d1636a-a5c0-429c-86f2-b2bb6fe67b01"
      },
      "outputs": [
        {
          "name": "stdout",
          "output_type": "stream",
          "text": [
            "Reading package lists... Done\n",
            "Building dependency tree       \n",
            "Reading state information... Done\n",
            "libkrb5-dev is already the newest version (1.17-6ubuntu4.2).\n",
            "libkrb5-dev set to manually installed.\n",
            "The following package was automatically installed and is no longer required:\n",
            "  libnvidia-common-510\n",
            "Use 'sudo apt autoremove' to remove it.\n",
            "0 upgraded, 0 newly installed, 0 to remove and 21 not upgraded.\n"
          ]
        }
      ],
      "source": [
        "!sudo apt-get install libkrb5-dev"
      ]
    },
    {
      "cell_type": "code",
      "execution_count": null,
      "metadata": {
        "id": "AEjUBIJY_50M"
      },
      "outputs": [],
      "source": [
        "!pip install arcgis==1.8.4  torch==1.4.0  fastai==1.0.60 torchvision==0.5.0 fastprogress pandas "
      ]
    },
    {
      "cell_type": "code",
      "execution_count": null,
      "metadata": {
        "id": "ouBpfKI-_5wB"
      },
      "outputs": [],
      "source": [
        "!pip install transformers==3.3.0"
      ]
    },
    {
      "cell_type": "markdown",
      "metadata": {
        "id": "unU4VSkkGuH0"
      },
      "source": [
        "### 1. Import Dependencies"
      ]
    },
    {
      "cell_type": "code",
      "execution_count": 4,
      "metadata": {
        "id": "TDr5ei60_5uL"
      },
      "outputs": [],
      "source": [
        "import os, zipfile\n",
        "from pathlib import Path\n",
        "from arcgis.learn import prepare_textdata\n",
        "from arcgis.learn.text import SequenceToSequence"
      ]
    },
    {
      "cell_type": "markdown",
      "metadata": {
        "id": "sp0NoREZGz5k"
      },
      "source": [
        "### 2. Data Preparation"
      ]
    },
    {
      "cell_type": "code",
      "execution_count": 5,
      "metadata": {
        "id": "HCWPhO5E_5p9"
      },
      "outputs": [],
      "source": [
        "filepath = r'/content/address_standardization_correction_data_small.zip'"
      ]
    },
    {
      "cell_type": "code",
      "execution_count": 6,
      "metadata": {
        "id": "NV9vSkVw_5oN"
      },
      "outputs": [],
      "source": [
        "with zipfile.ZipFile(filepath, 'r') as zip_ref:\n",
        "    zip_ref.extractall(Path(filepath).parent)"
      ]
    },
    {
      "cell_type": "code",
      "execution_count": 7,
      "metadata": {
        "id": "8Hq5uO8h_5kH"
      },
      "outputs": [],
      "source": [
        "data_root = Path(os.path.join(os.path.splitext(filepath)[0]))"
      ]
    },
    {
      "cell_type": "code",
      "execution_count": 8,
      "metadata": {
        "id": "xrrtpJtN_5ic"
      },
      "outputs": [],
      "source": [
        "data = prepare_textdata(path=data_root, batch_size=16, task='sequence_translation', \n",
        "                        text_columns='non-std-address', label_columns='std-address', \n",
        "                        train_file='address_standardization_correction_data_small.csv')"
      ]
    },
    {
      "cell_type": "code",
      "execution_count": 9,
      "metadata": {
        "colab": {
          "base_uri": "https://localhost:8080/",
          "height": 206
        },
        "id": "wmmn9Unk_5eV",
        "outputId": "8c6f191b-48b3-4eae-9e06-496430e4a100"
      },
      "outputs": [
        {
          "data": {
            "text/html": [
              "<style type=\"text/css\">\n",
              "#T_718a1_ th {\n",
              "  text-align: left;\n",
              "}\n",
              "#T_718a1_row0_col0, #T_718a1_row0_col1, #T_718a1_row1_col0, #T_718a1_row1_col1, #T_718a1_row2_col0, #T_718a1_row2_col1, #T_718a1_row3_col0, #T_718a1_row3_col1, #T_718a1_row4_col0, #T_718a1_row4_col1 {\n",
              "  text-align: left;\n",
              "}\n",
              "</style>\n",
              "<table id=\"T_718a1_\" class=\"dataframe\">\n",
              "  <thead>\n",
              "    <tr>\n",
              "      <th class=\"col_heading level0 col0\" >non-std-address</th>\n",
              "      <th class=\"col_heading level0 col1\" >std-address</th>\n",
              "    </tr>\n",
              "  </thead>\n",
              "  <tbody>\n",
              "    <tr>\n",
              "      <td id=\"T_718a1_row0_col0\" class=\"data row0 col0\" >407, brenfandow ct, noblesville, un, 46060.0, us</td>\n",
              "      <td id=\"T_718a1_row0_col1\" class=\"data row0 col1\" >407, brendandow ct, noblesville, in, 46060.0, us</td>\n",
              "    </tr>\n",
              "    <tr>\n",
              "      <td id=\"T_718a1_row1_col0\" class=\"data row1 col0\" >405, en huntington rd, andale, ks, 67001.0, us</td>\n",
              "      <td id=\"T_718a1_row1_col1\" class=\"data row1 col1\" >405, n huntington rd, andale, ks, 67001.0, us</td>\n",
              "    </tr>\n",
              "    <tr>\n",
              "      <td id=\"T_718a1_row2_col0\" class=\"data row2 col0\" >184, mlil st, burnt prairie, il, 62820.0, us</td>\n",
              "      <td id=\"T_718a1_row2_col1\" class=\"data row2 col1\" >184, mill st, burnt prairie, il, 62820.0, us</td>\n",
              "    </tr>\n",
              "    <tr>\n",
              "      <td id=\"T_718a1_row3_col0\" class=\"data row3 col0\" >12640, fairview avenue, blue island, illinois, 60406.0, us</td>\n",
              "      <td id=\"T_718a1_row3_col1\" class=\"data row3 col1\" >12640, fairview avenue, blue island, il, 60406.0, us</td>\n",
              "    </tr>\n",
              "    <tr>\n",
              "      <td id=\"T_718a1_row4_col0\" class=\"data row4 col0\" >6059, eest 63rd street, chicago, illinois, 60638.0, us</td>\n",
              "      <td id=\"T_718a1_row4_col1\" class=\"data row4 col1\" >6059, west 63rd street, chicago, il, 60638.0, us</td>\n",
              "    </tr>\n",
              "  </tbody>\n",
              "</table>\n"
            ],
            "text/plain": [
              "<pandas.io.formats.style.Styler at 0x7f7f99c86790>"
            ]
          },
          "execution_count": 9,
          "metadata": {},
          "output_type": "execute_result"
        }
      ],
      "source": [
        "data.show_batch()"
      ]
    },
    {
      "cell_type": "markdown",
      "metadata": {
        "id": "iiD4TJZmG9FR"
      },
      "source": [
        "### 3. SequenceToSequence model"
      ]
    },
    {
      "cell_type": "code",
      "execution_count": 10,
      "metadata": {
        "colab": {
          "base_uri": "https://localhost:8080/"
        },
        "id": "qKJ_j9Jj_5cL",
        "outputId": "ee234f91-9fca-4af8-e312-58e59a318a1d"
      },
      "outputs": [
        {
          "data": {
            "text/plain": [
              "['T5', 'Bart', 'Marian']"
            ]
          },
          "execution_count": 10,
          "metadata": {},
          "output_type": "execute_result"
        }
      ],
      "source": [
        "SequenceToSequence.supported_backbones"
      ]
    },
    {
      "cell_type": "code",
      "execution_count": 11,
      "metadata": {
        "colab": {
          "base_uri": "https://localhost:8080/"
        },
        "id": "lJ5RgR8t_5Ra",
        "outputId": "dd60c9a5-aeb0-483f-a8a2-6ea7ebab663f"
      },
      "outputs": [
        {
          "data": {
            "text/plain": [
              "['t5-small',\n",
              " 't5-base',\n",
              " 't5-large',\n",
              " 't5-3b',\n",
              " 't5-11b',\n",
              " 'See all T5 models at https://huggingface.co/models?filter=t5 ']"
            ]
          },
          "execution_count": 11,
          "metadata": {},
          "output_type": "execute_result"
        }
      ],
      "source": [
        "SequenceToSequence.available_backbone_models(\"T5\")"
      ]
    },
    {
      "cell_type": "markdown",
      "metadata": {
        "id": "MP4e6yM8HGrf"
      },
      "source": [
        "#### 3.1 Load model architecture"
      ]
    },
    {
      "cell_type": "code",
      "execution_count": 12,
      "metadata": {
        "colab": {
          "base_uri": "https://localhost:8080/",
          "height": 156,
          "referenced_widgets": [
            "14bc302ae68e4a5c83b72d889384e74e",
            "41e33b1541ed4be887887ddef5e380cb",
            "9ce78ec07e6f4f37bb36d101666fc612",
            "d09caeebf62f4bc7b21a30c5780ef817",
            "973e7ac8803242f19a81aa04a8f6d666",
            "e93057a3463247fe9d618913e876b416",
            "4877f49e57bf44f09f5f6742eb0754b6",
            "73c26f0cca884627b26ffc98604e4472",
            "ee497fde26a74ab7a90d5bfe17753baf",
            "a564c2a1823d421eb32c8f9991256992",
            "bdcf03e10c614cf3903958d2e01fbf50",
            "4663b5e6117f42cab0dad47d171185f8",
            "2e319dc1e84e4c81ab7cc98a54037670",
            "0e1af14e4ec445e7910390c5be2929a9",
            "06e8bebd812b4fe58a723fbd1197877b",
            "b749759b211a450fbaeb5a54d4b28cb9",
            "733ab9550f5b4c52993a4cf3e4a4e468",
            "06e04d76bc6142a6a22b377476a61495",
            "26689245296640dc87631cd04fedbaf7",
            "7b10d4c756d94bcba2107695a79476bd",
            "682cfec9345e484aba22edbfe2625c18",
            "d2d1200550d743a8b7a0c456cef4fda1"
          ]
        },
        "id": "EmbnpgqWCZNG",
        "outputId": "a430f42c-2415-41cb-bb9c-cc5c13f3b011"
      },
      "outputs": [
        {
          "data": {
            "application/vnd.jupyter.widget-view+json": {
              "model_id": "14bc302ae68e4a5c83b72d889384e74e",
              "version_major": 2,
              "version_minor": 0
            },
            "text/plain": [
              "Downloading:   0%|          | 0.00/1.20k [00:00<?, ?B/s]"
            ]
          },
          "metadata": {},
          "output_type": "display_data"
        },
        {
          "data": {
            "application/vnd.jupyter.widget-view+json": {
              "model_id": "4663b5e6117f42cab0dad47d171185f8",
              "version_major": 2,
              "version_minor": 0
            },
            "text/plain": [
              "Downloading:   0%|          | 0.00/792k [00:00<?, ?B/s]"
            ]
          },
          "metadata": {},
          "output_type": "display_data"
        },
        {
          "data": {
            "text/html": [
              "\n",
              "<style>\n",
              "    /* Turns off some styling */\n",
              "    progress {\n",
              "        /* gets rid of default border in Firefox and Opera. */\n",
              "        border: none;\n",
              "        /* Needs to be in here for Safari polyfill so background images work as expected. */\n",
              "        background-size: auto;\n",
              "    }\n",
              "    progress:not([value]), progress:not([value])::-webkit-progress-bar {\n",
              "        background: repeating-linear-gradient(45deg, #7e7e7e, #7e7e7e 10px, #5c5c5c 10px, #5c5c5c 20px);\n",
              "    }\n",
              "    .progress-bar-interrupted, .progress-bar-interrupted::-webkit-progress-bar {\n",
              "        background: #F44336;\n",
              "    }\n",
              "</style>\n"
            ],
            "text/plain": [
              "<IPython.core.display.HTML object>"
            ]
          },
          "metadata": {},
          "output_type": "display_data"
        },
        {
          "data": {
            "text/html": [],
            "text/plain": [
              "<IPython.core.display.HTML object>"
            ]
          },
          "metadata": {},
          "output_type": "display_data"
        },
        {
          "data": {
            "text/html": [
              "\n",
              "<style>\n",
              "    /* Turns off some styling */\n",
              "    progress {\n",
              "        /* gets rid of default border in Firefox and Opera. */\n",
              "        border: none;\n",
              "        /* Needs to be in here for Safari polyfill so background images work as expected. */\n",
              "        background-size: auto;\n",
              "    }\n",
              "    progress:not([value]), progress:not([value])::-webkit-progress-bar {\n",
              "        background: repeating-linear-gradient(45deg, #7e7e7e, #7e7e7e 10px, #5c5c5c 10px, #5c5c5c 20px);\n",
              "    }\n",
              "    .progress-bar-interrupted, .progress-bar-interrupted::-webkit-progress-bar {\n",
              "        background: #F44336;\n",
              "    }\n",
              "</style>\n"
            ],
            "text/plain": [
              "<IPython.core.display.HTML object>"
            ]
          },
          "metadata": {},
          "output_type": "display_data"
        },
        {
          "data": {
            "text/html": [],
            "text/plain": [
              "<IPython.core.display.HTML object>"
            ]
          },
          "metadata": {},
          "output_type": "display_data"
        },
        {
          "data": {
            "text/html": [
              "\n",
              "<style>\n",
              "    /* Turns off some styling */\n",
              "    progress {\n",
              "        /* gets rid of default border in Firefox and Opera. */\n",
              "        border: none;\n",
              "        /* Needs to be in here for Safari polyfill so background images work as expected. */\n",
              "        background-size: auto;\n",
              "    }\n",
              "    progress:not([value]), progress:not([value])::-webkit-progress-bar {\n",
              "        background: repeating-linear-gradient(45deg, #7e7e7e, #7e7e7e 10px, #5c5c5c 10px, #5c5c5c 20px);\n",
              "    }\n",
              "    .progress-bar-interrupted, .progress-bar-interrupted::-webkit-progress-bar {\n",
              "        background: #F44336;\n",
              "    }\n",
              "</style>\n"
            ],
            "text/plain": [
              "<IPython.core.display.HTML object>"
            ]
          },
          "metadata": {},
          "output_type": "display_data"
        },
        {
          "data": {
            "text/html": [],
            "text/plain": [
              "<IPython.core.display.HTML object>"
            ]
          },
          "metadata": {},
          "output_type": "display_data"
        },
        {
          "data": {
            "text/html": [
              "\n",
              "<style>\n",
              "    /* Turns off some styling */\n",
              "    progress {\n",
              "        /* gets rid of default border in Firefox and Opera. */\n",
              "        border: none;\n",
              "        /* Needs to be in here for Safari polyfill so background images work as expected. */\n",
              "        background-size: auto;\n",
              "    }\n",
              "    progress:not([value]), progress:not([value])::-webkit-progress-bar {\n",
              "        background: repeating-linear-gradient(45deg, #7e7e7e, #7e7e7e 10px, #5c5c5c 10px, #5c5c5c 20px);\n",
              "    }\n",
              "    .progress-bar-interrupted, .progress-bar-interrupted::-webkit-progress-bar {\n",
              "        background: #F44336;\n",
              "    }\n",
              "</style>\n"
            ],
            "text/plain": [
              "<IPython.core.display.HTML object>"
            ]
          },
          "metadata": {},
          "output_type": "display_data"
        },
        {
          "data": {
            "text/html": [],
            "text/plain": [
              "<IPython.core.display.HTML object>"
            ]
          },
          "metadata": {},
          "output_type": "display_data"
        },
        {
          "name": "stderr",
          "output_type": "stream",
          "text": [
            "/usr/local/lib/python3.8/dist-packages/fastai/text/data.py:124: VisibleDeprecationWarning: Creating an ndarray from ragged nested sequences (which is a list-or-tuple of lists-or-tuples-or ndarrays with different lengths or shapes) is deprecated. If you meant to do this, you must specify 'dtype=object' when creating the ndarray.\n",
            "  sort_idx = np.concatenate(np.random.permutation(ck_idx[1:])) if len(ck_idx) > 1 else np.array([],dtype=np.int)\n",
            "<__array_function__ internals>:5: VisibleDeprecationWarning: Creating an ndarray from ragged nested sequences (which is a list-or-tuple of lists-or-tuples-or ndarrays with different lengths or shapes) is deprecated. If you meant to do this, you must specify 'dtype=object' when creating the ndarray.\n"
          ]
        }
      ],
      "source": [
        "model = SequenceToSequence(data,backbone='t5-base')"
      ]
    },
    {
      "cell_type": "markdown",
      "metadata": {
        "id": "UlNoyZ5AHKSN"
      },
      "source": [
        "#### 3.2 Model training"
      ]
    },
    {
      "cell_type": "code",
      "execution_count": 13,
      "metadata": {
        "colab": {
          "base_uri": "https://localhost:8080/",
          "height": 298
        },
        "id": "ffvorOWNCcgB",
        "outputId": "87913303-567c-4eda-9735-e3f3aadbb4c0"
      },
      "outputs": [
        {
          "data": {
            "image/png": "[encoded data removed]",
            "text/plain": [
              "<Figure size 432x288 with 1 Axes>"
            ]
          },
          "metadata": {
            "needs_background": "light"
          },
          "output_type": "display_data"
        },
        {
          "data": {
            "text/plain": [
              "0.09999999999999999"
            ]
          },
          "execution_count": 13,
          "metadata": {},
          "output_type": "execute_result"
        }
      ],
      "source": [
        "lr = model.lr_find()\n",
        "lr"
      ]
    },
    {
      "cell_type": "code",
      "execution_count": 14,
      "metadata": {
        "colab": {
          "base_uri": "https://localhost:8080/",
          "height": 155
        },
        "id": "pBdEUSlGDYPn",
        "outputId": "3d2d1ae2-50ed-4159-b84c-549e24463b19"
      },
      "outputs": [
        {
          "data": {
            "text/html": [
              "\n",
              "<style>\n",
              "    /* Turns off some styling */\n",
              "    progress {\n",
              "        /* gets rid of default border in Firefox and Opera. */\n",
              "        border: none;\n",
              "        /* Needs to be in here for Safari polyfill so background images work as expected. */\n",
              "        background-size: auto;\n",
              "    }\n",
              "    progress:not([value]), progress:not([value])::-webkit-progress-bar {\n",
              "        background: repeating-linear-gradient(45deg, #7e7e7e, #7e7e7e 10px, #5c5c5c 10px, #5c5c5c 20px);\n",
              "    }\n",
              "    .progress-bar-interrupted, .progress-bar-interrupted::-webkit-progress-bar {\n",
              "        background: #F44336;\n",
              "    }\n",
              "</style>\n"
            ],
            "text/plain": [
              "<IPython.core.display.HTML object>"
            ]
          },
          "metadata": {},
          "output_type": "display_data"
        },
        {
          "data": {
            "text/html": [
              "<table border=\"1\" class=\"dataframe\">\n",
              "  <thead>\n",
              "    <tr style=\"text-align: left;\">\n",
              "      <th>epoch</th>\n",
              "      <th>train_loss</th>\n",
              "      <th>valid_loss</th>\n",
              "      <th>seq2seq_acc</th>\n",
              "      <th>bleu</th>\n",
              "      <th>time</th>\n",
              "    </tr>\n",
              "  </thead>\n",
              "  <tbody>\n",
              "    <tr>\n",
              "      <td>0</td>\n",
              "      <td>0.616781</td>\n",
              "      <td>0.399369</td>\n",
              "      <td>0.945831</td>\n",
              "      <td>0.884199</td>\n",
              "      <td>26:17</td>\n",
              "    </tr>\n",
              "  </tbody>\n",
              "</table>"
            ],
            "text/plain": [
              "<IPython.core.display.HTML object>"
            ]
          },
          "metadata": {},
          "output_type": "display_data"
        },
        {
          "name": "stderr",
          "output_type": "stream",
          "text": [
            "/usr/local/lib/python3.8/dist-packages/fastai/text/data.py:124: VisibleDeprecationWarning: Creating an ndarray from ragged nested sequences (which is a list-or-tuple of lists-or-tuples-or ndarrays with different lengths or shapes) is deprecated. If you meant to do this, you must specify 'dtype=object' when creating the ndarray.\n",
            "  sort_idx = np.concatenate(np.random.permutation(ck_idx[1:])) if len(ck_idx) > 1 else np.array([],dtype=np.int)\n",
            "<__array_function__ internals>:5: VisibleDeprecationWarning: Creating an ndarray from ragged nested sequences (which is a list-or-tuple of lists-or-tuples-or ndarrays with different lengths or shapes) is deprecated. If you meant to do this, you must specify 'dtype=object' when creating the ndarray.\n"
          ]
        }
      ],
      "source": [
        "model.fit(1, lr=lr)"
      ]
    },
    {
      "cell_type": "code",
      "execution_count": 20,
      "metadata": {
        "colab": {
          "base_uri": "https://localhost:8080/",
          "height": 281
        },
        "id": "2xlTa-ytKqjN",
        "outputId": "43bdaf41-9f6d-46c7-8ab5-39ba4d10d5a6"
      },
      "outputs": [
        {
          "data": {
            "text/html": [
              "\n",
              "<style>\n",
              "    /* Turns off some styling */\n",
              "    progress {\n",
              "        /* gets rid of default border in Firefox and Opera. */\n",
              "        border: none;\n",
              "        /* Needs to be in here for Safari polyfill so background images work as expected. */\n",
              "        background-size: auto;\n",
              "    }\n",
              "    progress:not([value]), progress:not([value])::-webkit-progress-bar {\n",
              "        background: repeating-linear-gradient(45deg, #7e7e7e, #7e7e7e 10px, #5c5c5c 10px, #5c5c5c 20px);\n",
              "    }\n",
              "    .progress-bar-interrupted, .progress-bar-interrupted::-webkit-progress-bar {\n",
              "        background: #F44336;\n",
              "    }\n",
              "</style>\n"
            ],
            "text/plain": [
              "<IPython.core.display.HTML object>"
            ]
          },
          "metadata": {},
          "output_type": "display_data"
        },
        {
          "data": {
            "text/html": [
              "<table border=\"1\" class=\"dataframe\">\n",
              "  <thead>\n",
              "    <tr style=\"text-align: left;\">\n",
              "      <th>epoch</th>\n",
              "      <th>train_loss</th>\n",
              "      <th>valid_loss</th>\n",
              "      <th>seq2seq_acc</th>\n",
              "      <th>bleu</th>\n",
              "      <th>time</th>\n",
              "    </tr>\n",
              "  </thead>\n",
              "  <tbody>\n",
              "    <tr>\n",
              "      <td>0</td>\n",
              "      <td>1.100980</td>\n",
              "      <td>0.693194</td>\n",
              "      <td>0.905270</td>\n",
              "      <td>0.817015</td>\n",
              "      <td>25:56</td>\n",
              "    </tr>\n",
              "    <tr>\n",
              "      <td>1</td>\n",
              "      <td>1.592410</td>\n",
              "      <td>0.959777</td>\n",
              "      <td>0.865741</td>\n",
              "      <td>0.751005</td>\n",
              "      <td>25:26</td>\n",
              "    </tr>\n",
              "    <tr>\n",
              "      <td>2</td>\n",
              "      <td>0.704497</td>\n",
              "      <td>0.453427</td>\n",
              "      <td>0.938502</td>\n",
              "      <td>0.872031</td>\n",
              "      <td>25:25</td>\n",
              "    </tr>\n",
              "    <tr>\n",
              "      <td>3</td>\n",
              "      <td>0.590160</td>\n",
              "      <td>0.390878</td>\n",
              "      <td>0.947518</td>\n",
              "      <td>0.887979</td>\n",
              "      <td>25:37</td>\n",
              "    </tr>\n",
              "    <tr>\n",
              "      <td>4</td>\n",
              "      <td>0.520487</td>\n",
              "      <td>0.364496</td>\n",
              "      <td>0.951211</td>\n",
              "      <td>0.894672</td>\n",
              "      <td>25:37</td>\n",
              "    </tr>\n",
              "  </tbody>\n",
              "</table>"
            ],
            "text/plain": [
              "<IPython.core.display.HTML object>"
            ]
          },
          "metadata": {},
          "output_type": "display_data"
        },
        {
          "name": "stderr",
          "output_type": "stream",
          "text": [
            "/usr/local/lib/python3.8/dist-packages/fastai/text/data.py:124: VisibleDeprecationWarning: Creating an ndarray from ragged nested sequences (which is a list-or-tuple of lists-or-tuples-or ndarrays with different lengths or shapes) is deprecated. If you meant to do this, you must specify 'dtype=object' when creating the ndarray.\n",
            "  sort_idx = np.concatenate(np.random.permutation(ck_idx[1:])) if len(ck_idx) > 1 else np.array([],dtype=np.int)\n",
            "<__array_function__ internals>:5: VisibleDeprecationWarning: Creating an ndarray from ragged nested sequences (which is a list-or-tuple of lists-or-tuples-or ndarrays with different lengths or shapes) is deprecated. If you meant to do this, you must specify 'dtype=object' when creating the ndarray.\n"
          ]
        }
      ],
      "source": [
        "model.fit(5, lr)"
      ]
    },
    {
      "cell_type": "markdown",
      "metadata": {
        "id": "WEPsFTfiHXgN"
      },
      "source": [
        "#### 3.2 Validate results"
      ]
    },
    {
      "cell_type": "code",
      "execution_count": 21,
      "metadata": {
        "colab": {
          "base_uri": "https://localhost:8080/",
          "height": 258
        },
        "id": "HA-jWQqxD0rA",
        "outputId": "720fa107-1934-4a9c-dc88-50508b15edca"
      },
      "outputs": [
        {
          "data": {
            "text/html": [
              "<table border=\"1\" class=\"dataframe\">\n",
              "  <thead>\n",
              "    <tr style=\"text-align: right;\">\n",
              "      <th>text</th>\n",
              "      <th>target</th>\n",
              "      <th>pred</th>\n",
              "    </tr>\n",
              "  </thead>\n",
              "  <tbody>\n",
              "    <tr>\n",
              "      <td>30w383, ipnehurst drive, uninvorporayed/naperville, illinois, 60563.0, ud</td>\n",
              "      <td>30w383, pinehurst dr, unincorporated/naperville, il, 60563.0, us</td>\n",
              "      <td>30w383, ipnehurst dr, un, il, 60563.0, us</td>\n",
              "    </tr>\n",
              "    <tr>\n",
              "      <td>13205, suoth dotcor martin luther king jr drive, chicago, illinois, 60827.0, us</td>\n",
              "      <td>13205, south doctor martin luther king jr drive, chicago, il, 60827.0, us</td>\n",
              "      <td>13205, soth dotin luther king kr dr, chicago, il, 60827.0, us</td>\n",
              "    </tr>\n",
              "    <tr>\n",
              "      <td>1802, ewst amrtin luther king jr drive, peoria, illinois, 61602.0, us</td>\n",
              "      <td>1802, w martin luther king jr dr, peoria, il, 61602.0, us</td>\n",
              "      <td>1802, ewst mainrtin luther king kr dr, peoria, il, 61602.0, us</td>\n",
              "    </tr>\n",
              "    <tr>\n",
              "      <td>427, south mccomas srteet, wcihita, kansas, 67213.0, us</td>\n",
              "      <td>427, s mccomas st, wichita, ks, 67213.0, us</td>\n",
              "      <td>427, s mcitas srteet, wciita, ks, 67213.0, us</td>\n",
              "    </tr>\n",
              "    <tr>\n",
              "      <td>10s231, plainfield/naperolle rd, unincrporated/naperville, il, 60565.0, us</td>\n",
              "      <td>10s231, plainfield/naperville rd, unincorporated/naperville, il, 60565.0, us</td>\n",
              "      <td>10s231, plainfield/na pe rd, unincrville, il, 60565.0, us,</td>\n",
              "    </tr>\n",
              "  </tbody>\n",
              "</table>"
            ],
            "text/plain": [
              "<IPython.core.display.HTML object>"
            ]
          },
          "metadata": {},
          "output_type": "display_data"
        }
      ],
      "source": [
        "model.show_results()"
      ]
    },
    {
      "cell_type": "markdown",
      "metadata": {
        "id": "JnNBJehsHdyU"
      },
      "source": [
        "#### 3.3 Model metrics"
      ]
    },
    {
      "cell_type": "code",
      "execution_count": 22,
      "metadata": {
        "colab": {
          "base_uri": "https://localhost:8080/"
        },
        "id": "QzMQWtK4HfZS",
        "outputId": "9ea6660f-fe0f-4431-dca8-d898879d9ca6"
      },
      "outputs": [
        {
          "data": {
            "text/plain": [
              "{'seq2seq_acc': 0.9512, 'bleu': 0.8947}"
            ]
          },
          "execution_count": 22,
          "metadata": {},
          "output_type": "execute_result"
        }
      ],
      "source": [
        "model.get_model_metrics()"
      ]
    },
    {
      "cell_type": "markdown",
      "metadata": {
        "id": "41aWQi5mHn0W"
      },
      "source": [
        "#### 3.4 Saving the trained model"
      ]
    },
    {
      "cell_type": "code",
      "execution_count": 31,
      "metadata": {
        "colab": {
          "base_uri": "https://localhost:8080/"
        },
        "id": "qYJlqEHSHpcf",
        "outputId": "4c6d9f54-26b2-4eca-a4ff-472581adf117"
      },
      "outputs": [
        {
          "data": {
            "text/plain": [
              "PosixPath('models/seq2seq_unfrozen8E_bleu_89')"
            ]
          },
          "execution_count": 31,
          "metadata": {},
          "output_type": "execute_result"
        }
      ],
      "source": [
        "model.save('seq2seq_unfrozen8E_bleu_89')"
      ]
    },
    {
      "cell_type": "markdown",
      "metadata": {
        "id": "Jopoo1G9HuMg"
      },
      "source": [
        "### 4. Model inference"
      ]
    },
    {
      "cell_type": "code",
      "execution_count": 24,
      "metadata": {
        "id": "90WFz5jhHvfq"
      },
      "outputs": [],
      "source": [
        "txt=['940, north pennsylvania avneue, mason icty, iowa, 50401, us',\n",
        "     '220, soyth rhodeisland aveune, mason city, iowa, 50401, us']"
      ]
    },
    {
      "cell_type": "code",
      "execution_count": 25,
      "metadata": {
        "colab": {
          "base_uri": "https://localhost:8080/",
          "height": 110
        },
        "id": "Pfk1ew6RH2P8",
        "outputId": "ca97d369-4f2b-47c0-ad9f-73fc5677663e"
      },
      "outputs": [
        {
          "data": {
            "text/html": [
              "\n",
              "<style>\n",
              "    /* Turns off some styling */\n",
              "    progress {\n",
              "        /* gets rid of default border in Firefox and Opera. */\n",
              "        border: none;\n",
              "        /* Needs to be in here for Safari polyfill so background images work as expected. */\n",
              "        background-size: auto;\n",
              "    }\n",
              "    progress:not([value]), progress:not([value])::-webkit-progress-bar {\n",
              "        background: repeating-linear-gradient(45deg, #7e7e7e, #7e7e7e 10px, #5c5c5c 10px, #5c5c5c 20px);\n",
              "    }\n",
              "    .progress-bar-interrupted, .progress-bar-interrupted::-webkit-progress-bar {\n",
              "        background: #F44336;\n",
              "    }\n",
              "</style>\n"
            ],
            "text/plain": [
              "<IPython.core.display.HTML object>"
            ]
          },
          "metadata": {},
          "output_type": "display_data"
        },
        {
          "data": {
            "text/html": [
              "\n",
              "    <div>\n",
              "      <progress value='1' class='' max='1' style='width:300px; height:20px; vertical-align: middle;'></progress>\n",
              "      100.00% [1/1 00:00&lt;00:00]\n",
              "    </div>\n",
              "    "
            ],
            "text/plain": [
              "<IPython.core.display.HTML object>"
            ]
          },
          "metadata": {},
          "output_type": "display_data"
        },
        {
          "data": {
            "text/plain": [
              "[('940, north pennsylvania avneue, mason icty, iowa, 50401, us',\n",
              "  '940, n pennsylvania ave, mason cty, ia, 50401, us'),\n",
              " ('220, soyth rhodeisland aveune, mason city, iowa, 50401, us',\n",
              "  '220, sy rhodeisland ave, mason city, ia, 50401, us')]"
            ]
          },
          "execution_count": 25,
          "metadata": {},
          "output_type": "execute_result"
        }
      ],
      "source": [
        "model.predict(txt, num_beams=6, max_length=50)"
      ]
    },
    {
      "cell_type": "markdown",
      "metadata": {
        "id": "JBOobDsuz1H8"
      },
      "source": [
        "<span style=\"background-color: LightSalmon\">Non-Standard</span> &rarr;  <span style=\"background-color: LightGreen\">Standard\n",
        "</span>  ,  <span style=\"background-color: LightCoral\">Error</span> &rarr; <span style=\"background-color: LightGreen\">Correction\n",
        "</span>\n",
        "* <span style=\"font-size:1.5em;\">940, <span style=\"background-color: LightSalmon;\">north</span> pennsylvania <span style=\"background-color: LightSalmon\">avneue</span>, mason <span style=\"background-color: LightCoral\">icty</span>, <span style=\"background-color: LightSalmon\">iowa</span>, 50401, us &rarr; 940, <span style=\"background-color: LightGreen\">n</span> pennsylvania <span style=\"background-color: LightGreen\">ave</span>, mason <span style=\"background-color: LightGreen\">city</span>, <span style=\"background-color: LightGreen\">ia</span>, 50401, us</span>\n",
        "\n",
        "\n",
        "* <span style=\"font-size:1.5em;\">220, <span style=\"background-color: LightCoral\">soyth rhodeisland</span> <span style=\"background-color: LightSalmon\">aveune</span>, mason city, <span style=\"background-color: LightSalmon\">iowa</span>, 50401, us &rarr; 220, <span style=\"background-color: LightGreen\">s rhode island ave</span>, mason city, <span style=\"background-color: LightGreen\">ia</span>, 50401, us</span>"
      ]
    },
    {
      "cell_type": "markdown",
      "metadata": {
        "id": "seIITgZKs8C8"
      },
      "source": [
        "### 5. Zip Folder and Download"
      ]
    },
    {
      "cell_type": "code",
      "execution_count": 27,
      "metadata": {
        "colab": {
          "base_uri": "https://localhost:8080/"
        },
        "id": "2vsSQuRHtBSt",
        "outputId": "6160032a-5e64-4969-d8ac-fea5f383f729"
      },
      "outputs": [
        {
          "name": "stdout",
          "output_type": "stream",
          "text": [
            "Mounted at /content/drive\n"
          ]
        }
      ],
      "source": [
        "from google.colab import drive\n",
        "drive.mount('/content/drive')"
      ]
    },
    {
      "cell_type": "code",
      "execution_count": null,
      "metadata": {
        "id": "T9hChPR9tOy-"
      },
      "outputs": [],
      "source": [
        "!zip -r '/content/models.zip' '/content/models'"
      ]
    },
    {
      "cell_type": "markdown",
      "metadata": {
        "id": "Pmm38x6LvKIY"
      },
      "source": [
        "### 6. Convert the model into pickle file"
      ]
    },
    {
      "cell_type": "code",
      "execution_count": 28,
      "metadata": {
        "id": "wDiwYk6HvO3A"
      },
      "outputs": [],
      "source": [
        "import pickle"
      ]
    },
    {
      "cell_type": "code",
      "execution_count": null,
      "metadata": {
        "id": "Jb035lC8vhCu"
      },
      "outputs": [],
      "source": [
        "with open('seq2seq_unfrozen8E_bleu_89.pkl', 'wb') as f:\n",
        "  pickle.dump(models, f)"
      ]
    },
    {
      "cell_type": "code",
      "execution_count": null,
      "metadata": {
        "id": "8PIXxqvhv3Yp"
      },
      "outputs": [],
      "source": []
    }
  ],
  "metadata": {
    "accelerator": "GPU",
    "colab": {
      "provenance": []
    },
    "gpuClass": "standard",
    "kernelspec": {
      "display_name": "text2seq",
      "language": "python",
      "name": "python3"
    },
    "language_info": {
      "name": "python",
      "version": "3.7.9"
    },
    "vscode": {
      "interpreter": {
        "hash": "d7a8f2d1927b4af04ebdbf7bc2cba3c4de98867fe77c078e2f377a9fe0d39c53"
      }
    },
    "widgets": {
      "application/vnd.jupyter.widget-state+json": {
        "06e04d76bc6142a6a22b377476a61495": {
          "model_module": "@jupyter-widgets/controls",
          "model_module_version": "1.5.0",
          "model_name": "DescriptionStyleModel",
          "state": {
            "_model_module": "@jupyter-widgets/controls",
            "_model_module_version": "1.5.0",
            "_model_name": "DescriptionStyleModel",
            "_view_count": null,
            "_view_module": "@jupyter-widgets/base",
            "_view_module_version": "1.2.0",
            "_view_name": "StyleView",
            "description_width": ""
          }
        },
        "06e8bebd812b4fe58a723fbd1197877b": {
          "model_module": "@jupyter-widgets/controls",
          "model_module_version": "1.5.0",
          "model_name": "HTMLModel",
          "state": {
            "_dom_classes": [],
            "_model_module": "@jupyter-widgets/controls",
            "_model_module_version": "1.5.0",
            "_model_name": "HTMLModel",
            "_view_count": null,
            "_view_module": "@jupyter-widgets/controls",
            "_view_module_version": "1.5.0",
            "_view_name": "HTMLView",
            "description": "",
            "description_tooltip": null,
            "layout": "IPY_MODEL_682cfec9345e484aba22edbfe2625c18",
            "placeholder": "​",
            "style": "IPY_MODEL_d2d1200550d743a8b7a0c456cef4fda1",
            "value": " 792k/792k [00:00&lt;00:00, 1.45MB/s]"
          }
        },
        "0e1af14e4ec445e7910390c5be2929a9": {
          "model_module": "@jupyter-widgets/controls",
          "model_module_version": "1.5.0",
          "model_name": "FloatProgressModel",
          "state": {
            "_dom_classes": [],
            "_model_module": "@jupyter-widgets/controls",
            "_model_module_version": "1.5.0",
            "_model_name": "FloatProgressModel",
            "_view_count": null,
            "_view_module": "@jupyter-widgets/controls",
            "_view_module_version": "1.5.0",
            "_view_name": "ProgressView",
            "bar_style": "success",
            "description": "",
            "description_tooltip": null,
            "layout": "IPY_MODEL_26689245296640dc87631cd04fedbaf7",
            "max": 791656,
            "min": 0,
            "orientation": "horizontal",
            "style": "IPY_MODEL_7b10d4c756d94bcba2107695a79476bd",
            "value": 791656
          }
        },
        "14bc302ae68e4a5c83b72d889384e74e": {
          "model_module": "@jupyter-widgets/controls",
          "model_module_version": "1.5.0",
          "model_name": "HBoxModel",
          "state": {
            "_dom_classes": [],
            "_model_module": "@jupyter-widgets/controls",
            "_model_module_version": "1.5.0",
            "_model_name": "HBoxModel",
            "_view_count": null,
            "_view_module": "@jupyter-widgets/controls",
            "_view_module_version": "1.5.0",
            "_view_name": "HBoxView",
            "box_style": "",
            "children": [
              "IPY_MODEL_41e33b1541ed4be887887ddef5e380cb",
              "IPY_MODEL_9ce78ec07e6f4f37bb36d101666fc612",
              "IPY_MODEL_d09caeebf62f4bc7b21a30c5780ef817"
            ],
            "layout": "IPY_MODEL_973e7ac8803242f19a81aa04a8f6d666"
          }
        },
        "26689245296640dc87631cd04fedbaf7": {
          "model_module": "@jupyter-widgets/base",
          "model_module_version": "1.2.0",
          "model_name": "LayoutModel",
          "state": {
            "_model_module": "@jupyter-widgets/base",
            "_model_module_version": "1.2.0",
            "_model_name": "LayoutModel",
            "_view_count": null,
            "_view_module": "@jupyter-widgets/base",
            "_view_module_version": "1.2.0",
            "_view_name": "LayoutView",
            "align_content": null,
            "align_items": null,
            "align_self": null,
            "border": null,
            "bottom": null,
            "display": null,
            "flex": null,
            "flex_flow": null,
            "grid_area": null,
            "grid_auto_columns": null,
            "grid_auto_flow": null,
            "grid_auto_rows": null,
            "grid_column": null,
            "grid_gap": null,
            "grid_row": null,
            "grid_template_areas": null,
            "grid_template_columns": null,
            "grid_template_rows": null,
            "height": null,
            "justify_content": null,
            "justify_items": null,
            "left": null,
            "margin": null,
            "max_height": null,
            "max_width": null,
            "min_height": null,
            "min_width": null,
            "object_fit": null,
            "object_position": null,
            "order": null,
            "overflow": null,
            "overflow_x": null,
            "overflow_y": null,
            "padding": null,
            "right": null,
            "top": null,
            "visibility": null,
            "width": null
          }
        },
        "2e319dc1e84e4c81ab7cc98a54037670": {
          "model_module": "@jupyter-widgets/controls",
          "model_module_version": "1.5.0",
          "model_name": "HTMLModel",
          "state": {
            "_dom_classes": [],
            "_model_module": "@jupyter-widgets/controls",
            "_model_module_version": "1.5.0",
            "_model_name": "HTMLModel",
            "_view_count": null,
            "_view_module": "@jupyter-widgets/controls",
            "_view_module_version": "1.5.0",
            "_view_name": "HTMLView",
            "description": "",
            "description_tooltip": null,
            "layout": "IPY_MODEL_733ab9550f5b4c52993a4cf3e4a4e468",
            "placeholder": "​",
            "style": "IPY_MODEL_06e04d76bc6142a6a22b377476a61495",
            "value": "Downloading: 100%"
          }
        },
        "41e33b1541ed4be887887ddef5e380cb": {
          "model_module": "@jupyter-widgets/controls",
          "model_module_version": "1.5.0",
          "model_name": "HTMLModel",
          "state": {
            "_dom_classes": [],
            "_model_module": "@jupyter-widgets/controls",
            "_model_module_version": "1.5.0",
            "_model_name": "HTMLModel",
            "_view_count": null,
            "_view_module": "@jupyter-widgets/controls",
            "_view_module_version": "1.5.0",
            "_view_name": "HTMLView",
            "description": "",
            "description_tooltip": null,
            "layout": "IPY_MODEL_e93057a3463247fe9d618913e876b416",
            "placeholder": "​",
            "style": "IPY_MODEL_4877f49e57bf44f09f5f6742eb0754b6",
            "value": "Downloading: 100%"
          }
        },
        "4663b5e6117f42cab0dad47d171185f8": {
          "model_module": "@jupyter-widgets/controls",
          "model_module_version": "1.5.0",
          "model_name": "HBoxModel",
          "state": {
            "_dom_classes": [],
            "_model_module": "@jupyter-widgets/controls",
            "_model_module_version": "1.5.0",
            "_model_name": "HBoxModel",
            "_view_count": null,
            "_view_module": "@jupyter-widgets/controls",
            "_view_module_version": "1.5.0",
            "_view_name": "HBoxView",
            "box_style": "",
            "children": [
              "IPY_MODEL_2e319dc1e84e4c81ab7cc98a54037670",
              "IPY_MODEL_0e1af14e4ec445e7910390c5be2929a9",
              "IPY_MODEL_06e8bebd812b4fe58a723fbd1197877b"
            ],
            "layout": "IPY_MODEL_b749759b211a450fbaeb5a54d4b28cb9"
          }
        },
        "4877f49e57bf44f09f5f6742eb0754b6": {
          "model_module": "@jupyter-widgets/controls",
          "model_module_version": "1.5.0",
          "model_name": "DescriptionStyleModel",
          "state": {
            "_model_module": "@jupyter-widgets/controls",
            "_model_module_version": "1.5.0",
            "_model_name": "DescriptionStyleModel",
            "_view_count": null,
            "_view_module": "@jupyter-widgets/base",
            "_view_module_version": "1.2.0",
            "_view_name": "StyleView",
            "description_width": ""
          }
        },
        "682cfec9345e484aba22edbfe2625c18": {
          "model_module": "@jupyter-widgets/base",
          "model_module_version": "1.2.0",
          "model_name": "LayoutModel",
          "state": {
            "_model_module": "@jupyter-widgets/base",
            "_model_module_version": "1.2.0",
            "_model_name": "LayoutModel",
            "_view_count": null,
            "_view_module": "@jupyter-widgets/base",
            "_view_module_version": "1.2.0",
            "_view_name": "LayoutView",
            "align_content": null,
            "align_items": null,
            "align_self": null,
            "border": null,
            "bottom": null,
            "display": null,
            "flex": null,
            "flex_flow": null,
            "grid_area": null,
            "grid_auto_columns": null,
            "grid_auto_flow": null,
            "grid_auto_rows": null,
            "grid_column": null,
            "grid_gap": null,
            "grid_row": null,
            "grid_template_areas": null,
            "grid_template_columns": null,
            "grid_template_rows": null,
            "height": null,
            "justify_content": null,
            "justify_items": null,
            "left": null,
            "margin": null,
            "max_height": null,
            "max_width": null,
            "min_height": null,
            "min_width": null,
            "object_fit": null,
            "object_position": null,
            "order": null,
            "overflow": null,
            "overflow_x": null,
            "overflow_y": null,
            "padding": null,
            "right": null,
            "top": null,
            "visibility": null,
            "width": null
          }
        },
        "733ab9550f5b4c52993a4cf3e4a4e468": {
          "model_module": "@jupyter-widgets/base",
          "model_module_version": "1.2.0",
          "model_name": "LayoutModel",
          "state": {
            "_model_module": "@jupyter-widgets/base",
            "_model_module_version": "1.2.0",
            "_model_name": "LayoutModel",
            "_view_count": null,
            "_view_module": "@jupyter-widgets/base",
            "_view_module_version": "1.2.0",
            "_view_name": "LayoutView",
            "align_content": null,
            "align_items": null,
            "align_self": null,
            "border": null,
            "bottom": null,
            "display": null,
            "flex": null,
            "flex_flow": null,
            "grid_area": null,
            "grid_auto_columns": null,
            "grid_auto_flow": null,
            "grid_auto_rows": null,
            "grid_column": null,
            "grid_gap": null,
            "grid_row": null,
            "grid_template_areas": null,
            "grid_template_columns": null,
            "grid_template_rows": null,
            "height": null,
            "justify_content": null,
            "justify_items": null,
            "left": null,
            "margin": null,
            "max_height": null,
            "max_width": null,
            "min_height": null,
            "min_width": null,
            "object_fit": null,
            "object_position": null,
            "order": null,
            "overflow": null,
            "overflow_x": null,
            "overflow_y": null,
            "padding": null,
            "right": null,
            "top": null,
            "visibility": null,
            "width": null
          }
        },
        "73c26f0cca884627b26ffc98604e4472": {
          "model_module": "@jupyter-widgets/base",
          "model_module_version": "1.2.0",
          "model_name": "LayoutModel",
          "state": {
            "_model_module": "@jupyter-widgets/base",
            "_model_module_version": "1.2.0",
            "_model_name": "LayoutModel",
            "_view_count": null,
            "_view_module": "@jupyter-widgets/base",
            "_view_module_version": "1.2.0",
            "_view_name": "LayoutView",
            "align_content": null,
            "align_items": null,
            "align_self": null,
            "border": null,
            "bottom": null,
            "display": null,
            "flex": null,
            "flex_flow": null,
            "grid_area": null,
            "grid_auto_columns": null,
            "grid_auto_flow": null,
            "grid_auto_rows": null,
            "grid_column": null,
            "grid_gap": null,
            "grid_row": null,
            "grid_template_areas": null,
            "grid_template_columns": null,
            "grid_template_rows": null,
            "height": null,
            "justify_content": null,
            "justify_items": null,
            "left": null,
            "margin": null,
            "max_height": null,
            "max_width": null,
            "min_height": null,
            "min_width": null,
            "object_fit": null,
            "object_position": null,
            "order": null,
            "overflow": null,
            "overflow_x": null,
            "overflow_y": null,
            "padding": null,
            "right": null,
            "top": null,
            "visibility": null,
            "width": null
          }
        },
        "7b10d4c756d94bcba2107695a79476bd": {
          "model_module": "@jupyter-widgets/controls",
          "model_module_version": "1.5.0",
          "model_name": "ProgressStyleModel",
          "state": {
            "_model_module": "@jupyter-widgets/controls",
            "_model_module_version": "1.5.0",
            "_model_name": "ProgressStyleModel",
            "_view_count": null,
            "_view_module": "@jupyter-widgets/base",
            "_view_module_version": "1.2.0",
            "_view_name": "StyleView",
            "bar_color": null,
            "description_width": ""
          }
        },
        "973e7ac8803242f19a81aa04a8f6d666": {
          "model_module": "@jupyter-widgets/base",
          "model_module_version": "1.2.0",
          "model_name": "LayoutModel",
          "state": {
            "_model_module": "@jupyter-widgets/base",
            "_model_module_version": "1.2.0",
            "_model_name": "LayoutModel",
            "_view_count": null,
            "_view_module": "@jupyter-widgets/base",
            "_view_module_version": "1.2.0",
            "_view_name": "LayoutView",
            "align_content": null,
            "align_items": null,
            "align_self": null,
            "border": null,
            "bottom": null,
            "display": null,
            "flex": null,
            "flex_flow": null,
            "grid_area": null,
            "grid_auto_columns": null,
            "grid_auto_flow": null,
            "grid_auto_rows": null,
            "grid_column": null,
            "grid_gap": null,
            "grid_row": null,
            "grid_template_areas": null,
            "grid_template_columns": null,
            "grid_template_rows": null,
            "height": null,
            "justify_content": null,
            "justify_items": null,
            "left": null,
            "margin": null,
            "max_height": null,
            "max_width": null,
            "min_height": null,
            "min_width": null,
            "object_fit": null,
            "object_position": null,
            "order": null,
            "overflow": null,
            "overflow_x": null,
            "overflow_y": null,
            "padding": null,
            "right": null,
            "top": null,
            "visibility": null,
            "width": null
          }
        },
        "9ce78ec07e6f4f37bb36d101666fc612": {
          "model_module": "@jupyter-widgets/controls",
          "model_module_version": "1.5.0",
          "model_name": "FloatProgressModel",
          "state": {
            "_dom_classes": [],
            "_model_module": "@jupyter-widgets/controls",
            "_model_module_version": "1.5.0",
            "_model_name": "FloatProgressModel",
            "_view_count": null,
            "_view_module": "@jupyter-widgets/controls",
            "_view_module_version": "1.5.0",
            "_view_name": "ProgressView",
            "bar_style": "success",
            "description": "",
            "description_tooltip": null,
            "layout": "IPY_MODEL_73c26f0cca884627b26ffc98604e4472",
            "max": 1199,
            "min": 0,
            "orientation": "horizontal",
            "style": "IPY_MODEL_ee497fde26a74ab7a90d5bfe17753baf",
            "value": 1199
          }
        },
        "a564c2a1823d421eb32c8f9991256992": {
          "model_module": "@jupyter-widgets/base",
          "model_module_version": "1.2.0",
          "model_name": "LayoutModel",
          "state": {
            "_model_module": "@jupyter-widgets/base",
            "_model_module_version": "1.2.0",
            "_model_name": "LayoutModel",
            "_view_count": null,
            "_view_module": "@jupyter-widgets/base",
            "_view_module_version": "1.2.0",
            "_view_name": "LayoutView",
            "align_content": null,
            "align_items": null,
            "align_self": null,
            "border": null,
            "bottom": null,
            "display": null,
            "flex": null,
            "flex_flow": null,
            "grid_area": null,
            "grid_auto_columns": null,
            "grid_auto_flow": null,
            "grid_auto_rows": null,
            "grid_column": null,
            "grid_gap": null,
            "grid_row": null,
            "grid_template_areas": null,
            "grid_template_columns": null,
            "grid_template_rows": null,
            "height": null,
            "justify_content": null,
            "justify_items": null,
            "left": null,
            "margin": null,
            "max_height": null,
            "max_width": null,
            "min_height": null,
            "min_width": null,
            "object_fit": null,
            "object_position": null,
            "order": null,
            "overflow": null,
            "overflow_x": null,
            "overflow_y": null,
            "padding": null,
            "right": null,
            "top": null,
            "visibility": null,
            "width": null
          }
        },
        "b749759b211a450fbaeb5a54d4b28cb9": {
          "model_module": "@jupyter-widgets/base",
          "model_module_version": "1.2.0",
          "model_name": "LayoutModel",
          "state": {
            "_model_module": "@jupyter-widgets/base",
            "_model_module_version": "1.2.0",
            "_model_name": "LayoutModel",
            "_view_count": null,
            "_view_module": "@jupyter-widgets/base",
            "_view_module_version": "1.2.0",
            "_view_name": "LayoutView",
            "align_content": null,
            "align_items": null,
            "align_self": null,
            "border": null,
            "bottom": null,
            "display": null,
            "flex": null,
            "flex_flow": null,
            "grid_area": null,
            "grid_auto_columns": null,
            "grid_auto_flow": null,
            "grid_auto_rows": null,
            "grid_column": null,
            "grid_gap": null,
            "grid_row": null,
            "grid_template_areas": null,
            "grid_template_columns": null,
            "grid_template_rows": null,
            "height": null,
            "justify_content": null,
            "justify_items": null,
            "left": null,
            "margin": null,
            "max_height": null,
            "max_width": null,
            "min_height": null,
            "min_width": null,
            "object_fit": null,
            "object_position": null,
            "order": null,
            "overflow": null,
            "overflow_x": null,
            "overflow_y": null,
            "padding": null,
            "right": null,
            "top": null,
            "visibility": null,
            "width": null
          }
        },
        "bdcf03e10c614cf3903958d2e01fbf50": {
          "model_module": "@jupyter-widgets/controls",
          "model_module_version": "1.5.0",
          "model_name": "DescriptionStyleModel",
          "state": {
            "_model_module": "@jupyter-widgets/controls",
            "_model_module_version": "1.5.0",
            "_model_name": "DescriptionStyleModel",
            "_view_count": null,
            "_view_module": "@jupyter-widgets/base",
            "_view_module_version": "1.2.0",
            "_view_name": "StyleView",
            "description_width": ""
          }
        },
        "d09caeebf62f4bc7b21a30c5780ef817": {
          "model_module": "@jupyter-widgets/controls",
          "model_module_version": "1.5.0",
          "model_name": "HTMLModel",
          "state": {
            "_dom_classes": [],
            "_model_module": "@jupyter-widgets/controls",
            "_model_module_version": "1.5.0",
            "_model_name": "HTMLModel",
            "_view_count": null,
            "_view_module": "@jupyter-widgets/controls",
            "_view_module_version": "1.5.0",
            "_view_name": "HTMLView",
            "description": "",
            "description_tooltip": null,
            "layout": "IPY_MODEL_a564c2a1823d421eb32c8f9991256992",
            "placeholder": "​",
            "style": "IPY_MODEL_bdcf03e10c614cf3903958d2e01fbf50",
            "value": " 1.20k/1.20k [00:00&lt;00:00, 21.2kB/s]"
          }
        },
        "d2d1200550d743a8b7a0c456cef4fda1": {
          "model_module": "@jupyter-widgets/controls",
          "model_module_version": "1.5.0",
          "model_name": "DescriptionStyleModel",
          "state": {
            "_model_module": "@jupyter-widgets/controls",
            "_model_module_version": "1.5.0",
            "_model_name": "DescriptionStyleModel",
            "_view_count": null,
            "_view_module": "@jupyter-widgets/base",
            "_view_module_version": "1.2.0",
            "_view_name": "StyleView",
            "description_width": ""
          }
        },
        "e93057a3463247fe9d618913e876b416": {
          "model_module": "@jupyter-widgets/base",
          "model_module_version": "1.2.0",
          "model_name": "LayoutModel",
          "state": {
            "_model_module": "@jupyter-widgets/base",
            "_model_module_version": "1.2.0",
            "_model_name": "LayoutModel",
            "_view_count": null,
            "_view_module": "@jupyter-widgets/base",
            "_view_module_version": "1.2.0",
            "_view_name": "LayoutView",
            "align_content": null,
            "align_items": null,
            "align_self": null,
            "border": null,
            "bottom": null,
            "display": null,
            "flex": null,
            "flex_flow": null,
            "grid_area": null,
            "grid_auto_columns": null,
            "grid_auto_flow": null,
            "grid_auto_rows": null,
            "grid_column": null,
            "grid_gap": null,
            "grid_row": null,
            "grid_template_areas": null,
            "grid_template_columns": null,
            "grid_template_rows": null,
            "height": null,
            "justify_content": null,
            "justify_items": null,
            "left": null,
            "margin": null,
            "max_height": null,
            "max_width": null,
            "min_height": null,
            "min_width": null,
            "object_fit": null,
            "object_position": null,
            "order": null,
            "overflow": null,
            "overflow_x": null,
            "overflow_y": null,
            "padding": null,
            "right": null,
            "top": null,
            "visibility": null,
            "width": null
          }
        },
        "ee497fde26a74ab7a90d5bfe17753baf": {
          "model_module": "@jupyter-widgets/controls",
          "model_module_version": "1.5.0",
          "model_name": "ProgressStyleModel",
          "state": {
            "_model_module": "@jupyter-widgets/controls",
            "_model_module_version": "1.5.0",
            "_model_name": "ProgressStyleModel",
            "_view_count": null,
            "_view_module": "@jupyter-widgets/base",
            "_view_module_version": "1.2.0",
            "_view_name": "StyleView",
            "bar_color": null,
            "description_width": ""
          }
        }
      }
    }
  },
  "nbformat": 4,
  "nbformat_minor": 0
}
