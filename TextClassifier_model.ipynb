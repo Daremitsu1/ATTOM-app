{
  "nbformat": 4,
  "nbformat_minor": 0,
  "metadata": {
    "colab": {
      "provenance": []
    },
    "kernelspec": {
      "name": "python3",
      "display_name": "Python 3"
    },
    "language_info": {
      "name": "python"
    },
    "accelerator": "GPU",
    "gpuClass": "standard",
    "widgets": {
      "application/vnd.jupyter.widget-state+json": {
        "68b9f72df6ce4996862e7054bba2dcf5": {
          "model_module": "@jupyter-widgets/controls",
          "model_name": "HBoxModel",
          "model_module_version": "1.5.0",
          "state": {
            "_dom_classes": [],
            "_model_module": "@jupyter-widgets/controls",
            "_model_module_version": "1.5.0",
            "_model_name": "HBoxModel",
            "_view_count": null,
            "_view_module": "@jupyter-widgets/controls",
            "_view_module_version": "1.5.0",
            "_view_name": "HBoxView",
            "box_style": "",
            "children": [
              "IPY_MODEL_407f434c102f49e8b5df65b1e621eba4",
              "IPY_MODEL_7ad7b83d72e54d9ca104be04c1d18fad",
              "IPY_MODEL_efcc6a3bc7634013b14cb5440e43aa7d"
            ],
            "layout": "IPY_MODEL_fe5422f8b82842e1bac35ee5f5c9a1c5"
          }
        },
        "407f434c102f49e8b5df65b1e621eba4": {
          "model_module": "@jupyter-widgets/controls",
          "model_name": "HTMLModel",
          "model_module_version": "1.5.0",
          "state": {
            "_dom_classes": [],
            "_model_module": "@jupyter-widgets/controls",
            "_model_module_version": "1.5.0",
            "_model_name": "HTMLModel",
            "_view_count": null,
            "_view_module": "@jupyter-widgets/controls",
            "_view_module_version": "1.5.0",
            "_view_name": "HTMLView",
            "description": "",
            "description_tooltip": null,
            "layout": "IPY_MODEL_64fc9946bc96425abb4fb37624796a1e",
            "placeholder": "​",
            "style": "IPY_MODEL_599cc917e6c44e1280003ce7a9d95584",
            "value": "Downloading: 100%"
          }
        },
        "7ad7b83d72e54d9ca104be04c1d18fad": {
          "model_module": "@jupyter-widgets/controls",
          "model_name": "FloatProgressModel",
          "model_module_version": "1.5.0",
          "state": {
            "_dom_classes": [],
            "_model_module": "@jupyter-widgets/controls",
            "_model_module_version": "1.5.0",
            "_model_name": "FloatProgressModel",
            "_view_count": null,
            "_view_module": "@jupyter-widgets/controls",
            "_view_module_version": "1.5.0",
            "_view_name": "ProgressView",
            "bar_style": "success",
            "description": "",
            "description_tooltip": null,
            "layout": "IPY_MODEL_23bf2b3d130f4623a3ef6ca329bc80a3",
            "max": 512,
            "min": 0,
            "orientation": "horizontal",
            "style": "IPY_MODEL_3b53ecc622974a4b94420d658072ed84",
            "value": 512
          }
        },
        "efcc6a3bc7634013b14cb5440e43aa7d": {
          "model_module": "@jupyter-widgets/controls",
          "model_name": "HTMLModel",
          "model_module_version": "1.5.0",
          "state": {
            "_dom_classes": [],
            "_model_module": "@jupyter-widgets/controls",
            "_model_module_version": "1.5.0",
            "_model_name": "HTMLModel",
            "_view_count": null,
            "_view_module": "@jupyter-widgets/controls",
            "_view_module_version": "1.5.0",
            "_view_name": "HTMLView",
            "description": "",
            "description_tooltip": null,
            "layout": "IPY_MODEL_3b3ad3ba9458453cb3dbd1cca8d0f94e",
            "placeholder": "​",
            "style": "IPY_MODEL_7f493bc4b3544e0c90cc091afcfacf4b",
            "value": " 512/512 [00:00&lt;00:00, 24.8kB/s]"
          }
        },
        "fe5422f8b82842e1bac35ee5f5c9a1c5": {
          "model_module": "@jupyter-widgets/base",
          "model_name": "LayoutModel",
          "model_module_version": "1.2.0",
          "state": {
            "_model_module": "@jupyter-widgets/base",
            "_model_module_version": "1.2.0",
            "_model_name": "LayoutModel",
            "_view_count": null,
            "_view_module": "@jupyter-widgets/base",
            "_view_module_version": "1.2.0",
            "_view_name": "LayoutView",
            "align_content": null,
            "align_items": null,
            "align_self": null,
            "border": null,
            "bottom": null,
            "display": null,
            "flex": null,
            "flex_flow": null,
            "grid_area": null,
            "grid_auto_columns": null,
            "grid_auto_flow": null,
            "grid_auto_rows": null,
            "grid_column": null,
            "grid_gap": null,
            "grid_row": null,
            "grid_template_areas": null,
            "grid_template_columns": null,
            "grid_template_rows": null,
            "height": null,
            "justify_content": null,
            "justify_items": null,
            "left": null,
            "margin": null,
            "max_height": null,
            "max_width": null,
            "min_height": null,
            "min_width": null,
            "object_fit": null,
            "object_position": null,
            "order": null,
            "overflow": null,
            "overflow_x": null,
            "overflow_y": null,
            "padding": null,
            "right": null,
            "top": null,
            "visibility": null,
            "width": null
          }
        },
        "64fc9946bc96425abb4fb37624796a1e": {
          "model_module": "@jupyter-widgets/base",
          "model_name": "LayoutModel",
          "model_module_version": "1.2.0",
          "state": {
            "_model_module": "@jupyter-widgets/base",
            "_model_module_version": "1.2.0",
            "_model_name": "LayoutModel",
            "_view_count": null,
            "_view_module": "@jupyter-widgets/base",
            "_view_module_version": "1.2.0",
            "_view_name": "LayoutView",
            "align_content": null,
            "align_items": null,
            "align_self": null,
            "border": null,
            "bottom": null,
            "display": null,
            "flex": null,
            "flex_flow": null,
            "grid_area": null,
            "grid_auto_columns": null,
            "grid_auto_flow": null,
            "grid_auto_rows": null,
            "grid_column": null,
            "grid_gap": null,
            "grid_row": null,
            "grid_template_areas": null,
            "grid_template_columns": null,
            "grid_template_rows": null,
            "height": null,
            "justify_content": null,
            "justify_items": null,
            "left": null,
            "margin": null,
            "max_height": null,
            "max_width": null,
            "min_height": null,
            "min_width": null,
            "object_fit": null,
            "object_position": null,
            "order": null,
            "overflow": null,
            "overflow_x": null,
            "overflow_y": null,
            "padding": null,
            "right": null,
            "top": null,
            "visibility": null,
            "width": null
          }
        },
        "599cc917e6c44e1280003ce7a9d95584": {
          "model_module": "@jupyter-widgets/controls",
          "model_name": "DescriptionStyleModel",
          "model_module_version": "1.5.0",
          "state": {
            "_model_module": "@jupyter-widgets/controls",
            "_model_module_version": "1.5.0",
            "_model_name": "DescriptionStyleModel",
            "_view_count": null,
            "_view_module": "@jupyter-widgets/base",
            "_view_module_version": "1.2.0",
            "_view_name": "StyleView",
            "description_width": ""
          }
        },
        "23bf2b3d130f4623a3ef6ca329bc80a3": {
          "model_module": "@jupyter-widgets/base",
          "model_name": "LayoutModel",
          "model_module_version": "1.2.0",
          "state": {
            "_model_module": "@jupyter-widgets/base",
            "_model_module_version": "1.2.0",
            "_model_name": "LayoutModel",
            "_view_count": null,
            "_view_module": "@jupyter-widgets/base",
            "_view_module_version": "1.2.0",
            "_view_name": "LayoutView",
            "align_content": null,
            "align_items": null,
            "align_self": null,
            "border": null,
            "bottom": null,
            "display": null,
            "flex": null,
            "flex_flow": null,
            "grid_area": null,
            "grid_auto_columns": null,
            "grid_auto_flow": null,
            "grid_auto_rows": null,
            "grid_column": null,
            "grid_gap": null,
            "grid_row": null,
            "grid_template_areas": null,
            "grid_template_columns": null,
            "grid_template_rows": null,
            "height": null,
            "justify_content": null,
            "justify_items": null,
            "left": null,
            "margin": null,
            "max_height": null,
            "max_width": null,
            "min_height": null,
            "min_width": null,
            "object_fit": null,
            "object_position": null,
            "order": null,
            "overflow": null,
            "overflow_x": null,
            "overflow_y": null,
            "padding": null,
            "right": null,
            "top": null,
            "visibility": null,
            "width": null
          }
        },
        "3b53ecc622974a4b94420d658072ed84": {
          "model_module": "@jupyter-widgets/controls",
          "model_name": "ProgressStyleModel",
          "model_module_version": "1.5.0",
          "state": {
            "_model_module": "@jupyter-widgets/controls",
            "_model_module_version": "1.5.0",
            "_model_name": "ProgressStyleModel",
            "_view_count": null,
            "_view_module": "@jupyter-widgets/base",
            "_view_module_version": "1.2.0",
            "_view_name": "StyleView",
            "bar_color": null,
            "description_width": ""
          }
        },
        "3b3ad3ba9458453cb3dbd1cca8d0f94e": {
          "model_module": "@jupyter-widgets/base",
          "model_name": "LayoutModel",
          "model_module_version": "1.2.0",
          "state": {
            "_model_module": "@jupyter-widgets/base",
            "_model_module_version": "1.2.0",
            "_model_name": "LayoutModel",
            "_view_count": null,
            "_view_module": "@jupyter-widgets/base",
            "_view_module_version": "1.2.0",
            "_view_name": "LayoutView",
            "align_content": null,
            "align_items": null,
            "align_self": null,
            "border": null,
            "bottom": null,
            "display": null,
            "flex": null,
            "flex_flow": null,
            "grid_area": null,
            "grid_auto_columns": null,
            "grid_auto_flow": null,
            "grid_auto_rows": null,
            "grid_column": null,
            "grid_gap": null,
            "grid_row": null,
            "grid_template_areas": null,
            "grid_template_columns": null,
            "grid_template_rows": null,
            "height": null,
            "justify_content": null,
            "justify_items": null,
            "left": null,
            "margin": null,
            "max_height": null,
            "max_width": null,
            "min_height": null,
            "min_width": null,
            "object_fit": null,
            "object_position": null,
            "order": null,
            "overflow": null,
            "overflow_x": null,
            "overflow_y": null,
            "padding": null,
            "right": null,
            "top": null,
            "visibility": null,
            "width": null
          }
        },
        "7f493bc4b3544e0c90cc091afcfacf4b": {
          "model_module": "@jupyter-widgets/controls",
          "model_name": "DescriptionStyleModel",
          "model_module_version": "1.5.0",
          "state": {
            "_model_module": "@jupyter-widgets/controls",
            "_model_module_version": "1.5.0",
            "_model_name": "DescriptionStyleModel",
            "_view_count": null,
            "_view_module": "@jupyter-widgets/base",
            "_view_module_version": "1.2.0",
            "_view_name": "StyleView",
            "description_width": ""
          }
        },
        "44e698d774344211a1094c21e1285dfe": {
          "model_module": "@jupyter-widgets/controls",
          "model_name": "HBoxModel",
          "model_module_version": "1.5.0",
          "state": {
            "_dom_classes": [],
            "_model_module": "@jupyter-widgets/controls",
            "_model_module_version": "1.5.0",
            "_model_name": "HBoxModel",
            "_view_count": null,
            "_view_module": "@jupyter-widgets/controls",
            "_view_module_version": "1.5.0",
            "_view_name": "HBoxView",
            "box_style": "",
            "children": [
              "IPY_MODEL_b46641d1a77b40338ee1c5f8b6d5af09",
              "IPY_MODEL_639388ea195d4b8ba51911395981ad49",
              "IPY_MODEL_a72a4883ac51445e8ce25c733ed4efcc"
            ],
            "layout": "IPY_MODEL_56bd277de93d463eaf534700bfb5cb63"
          }
        },
        "b46641d1a77b40338ee1c5f8b6d5af09": {
          "model_module": "@jupyter-widgets/controls",
          "model_name": "HTMLModel",
          "model_module_version": "1.5.0",
          "state": {
            "_dom_classes": [],
            "_model_module": "@jupyter-widgets/controls",
            "_model_module_version": "1.5.0",
            "_model_name": "HTMLModel",
            "_view_count": null,
            "_view_module": "@jupyter-widgets/controls",
            "_view_module_version": "1.5.0",
            "_view_name": "HTMLView",
            "description": "",
            "description_tooltip": null,
            "layout": "IPY_MODEL_54399d0d60054f79bb58d081a997e10c",
            "placeholder": "​",
            "style": "IPY_MODEL_1c8a14ace8d2413f8c018de13ee8687a",
            "value": "Downloading: 100%"
          }
        },
        "639388ea195d4b8ba51911395981ad49": {
          "model_module": "@jupyter-widgets/controls",
          "model_name": "FloatProgressModel",
          "model_module_version": "1.5.0",
          "state": {
            "_dom_classes": [],
            "_model_module": "@jupyter-widgets/controls",
            "_model_module_version": "1.5.0",
            "_model_name": "FloatProgressModel",
            "_view_count": null,
            "_view_module": "@jupyter-widgets/controls",
            "_view_module_version": "1.5.0",
            "_view_name": "ProgressView",
            "bar_style": "success",
            "description": "",
            "description_tooltip": null,
            "layout": "IPY_MODEL_b856e49a781b41999d071c5469ac3379",
            "max": 5069051,
            "min": 0,
            "orientation": "horizontal",
            "style": "IPY_MODEL_1fb9f7990a8e4fc392b76b274c8b7b14",
            "value": 5069051
          }
        },
        "a72a4883ac51445e8ce25c733ed4efcc": {
          "model_module": "@jupyter-widgets/controls",
          "model_name": "HTMLModel",
          "model_module_version": "1.5.0",
          "state": {
            "_dom_classes": [],
            "_model_module": "@jupyter-widgets/controls",
            "_model_module_version": "1.5.0",
            "_model_name": "HTMLModel",
            "_view_count": null,
            "_view_module": "@jupyter-widgets/controls",
            "_view_module_version": "1.5.0",
            "_view_name": "HTMLView",
            "description": "",
            "description_tooltip": null,
            "layout": "IPY_MODEL_1e02f0d55b4d43e08ca3aa9d06f89b39",
            "placeholder": "​",
            "style": "IPY_MODEL_4d0776cf97ef4eb58bab751a8ce8b9cc",
            "value": " 5.07M/5.07M [00:00&lt;00:00, 12.9MB/s]"
          }
        },
        "56bd277de93d463eaf534700bfb5cb63": {
          "model_module": "@jupyter-widgets/base",
          "model_name": "LayoutModel",
          "model_module_version": "1.2.0",
          "state": {
            "_model_module": "@jupyter-widgets/base",
            "_model_module_version": "1.2.0",
            "_model_name": "LayoutModel",
            "_view_count": null,
            "_view_module": "@jupyter-widgets/base",
            "_view_module_version": "1.2.0",
            "_view_name": "LayoutView",
            "align_content": null,
            "align_items": null,
            "align_self": null,
            "border": null,
            "bottom": null,
            "display": null,
            "flex": null,
            "flex_flow": null,
            "grid_area": null,
            "grid_auto_columns": null,
            "grid_auto_flow": null,
            "grid_auto_rows": null,
            "grid_column": null,
            "grid_gap": null,
            "grid_row": null,
            "grid_template_areas": null,
            "grid_template_columns": null,
            "grid_template_rows": null,
            "height": null,
            "justify_content": null,
            "justify_items": null,
            "left": null,
            "margin": null,
            "max_height": null,
            "max_width": null,
            "min_height": null,
            "min_width": null,
            "object_fit": null,
            "object_position": null,
            "order": null,
            "overflow": null,
            "overflow_x": null,
            "overflow_y": null,
            "padding": null,
            "right": null,
            "top": null,
            "visibility": null,
            "width": null
          }
        },
        "54399d0d60054f79bb58d081a997e10c": {
          "model_module": "@jupyter-widgets/base",
          "model_name": "LayoutModel",
          "model_module_version": "1.2.0",
          "state": {
            "_model_module": "@jupyter-widgets/base",
            "_model_module_version": "1.2.0",
            "_model_name": "LayoutModel",
            "_view_count": null,
            "_view_module": "@jupyter-widgets/base",
            "_view_module_version": "1.2.0",
            "_view_name": "LayoutView",
            "align_content": null,
            "align_items": null,
            "align_self": null,
            "border": null,
            "bottom": null,
            "display": null,
            "flex": null,
            "flex_flow": null,
            "grid_area": null,
            "grid_auto_columns": null,
            "grid_auto_flow": null,
            "grid_auto_rows": null,
            "grid_column": null,
            "grid_gap": null,
            "grid_row": null,
            "grid_template_areas": null,
            "grid_template_columns": null,
            "grid_template_rows": null,
            "height": null,
            "justify_content": null,
            "justify_items": null,
            "left": null,
            "margin": null,
            "max_height": null,
            "max_width": null,
            "min_height": null,
            "min_width": null,
            "object_fit": null,
            "object_position": null,
            "order": null,
            "overflow": null,
            "overflow_x": null,
            "overflow_y": null,
            "padding": null,
            "right": null,
            "top": null,
            "visibility": null,
            "width": null
          }
        },
        "1c8a14ace8d2413f8c018de13ee8687a": {
          "model_module": "@jupyter-widgets/controls",
          "model_name": "DescriptionStyleModel",
          "model_module_version": "1.5.0",
          "state": {
            "_model_module": "@jupyter-widgets/controls",
            "_model_module_version": "1.5.0",
            "_model_name": "DescriptionStyleModel",
            "_view_count": null,
            "_view_module": "@jupyter-widgets/base",
            "_view_module_version": "1.2.0",
            "_view_name": "StyleView",
            "description_width": ""
          }
        },
        "b856e49a781b41999d071c5469ac3379": {
          "model_module": "@jupyter-widgets/base",
          "model_name": "LayoutModel",
          "model_module_version": "1.2.0",
          "state": {
            "_model_module": "@jupyter-widgets/base",
            "_model_module_version": "1.2.0",
            "_model_name": "LayoutModel",
            "_view_count": null,
            "_view_module": "@jupyter-widgets/base",
            "_view_module_version": "1.2.0",
            "_view_name": "LayoutView",
            "align_content": null,
            "align_items": null,
            "align_self": null,
            "border": null,
            "bottom": null,
            "display": null,
            "flex": null,
            "flex_flow": null,
            "grid_area": null,
            "grid_auto_columns": null,
            "grid_auto_flow": null,
            "grid_auto_rows": null,
            "grid_column": null,
            "grid_gap": null,
            "grid_row": null,
            "grid_template_areas": null,
            "grid_template_columns": null,
            "grid_template_rows": null,
            "height": null,
            "justify_content": null,
            "justify_items": null,
            "left": null,
            "margin": null,
            "max_height": null,
            "max_width": null,
            "min_height": null,
            "min_width": null,
            "object_fit": null,
            "object_position": null,
            "order": null,
            "overflow": null,
            "overflow_x": null,
            "overflow_y": null,
            "padding": null,
            "right": null,
            "top": null,
            "visibility": null,
            "width": null
          }
        },
        "1fb9f7990a8e4fc392b76b274c8b7b14": {
          "model_module": "@jupyter-widgets/controls",
          "model_name": "ProgressStyleModel",
          "model_module_version": "1.5.0",
          "state": {
            "_model_module": "@jupyter-widgets/controls",
            "_model_module_version": "1.5.0",
            "_model_name": "ProgressStyleModel",
            "_view_count": null,
            "_view_module": "@jupyter-widgets/base",
            "_view_module_version": "1.2.0",
            "_view_name": "StyleView",
            "bar_color": null,
            "description_width": ""
          }
        },
        "1e02f0d55b4d43e08ca3aa9d06f89b39": {
          "model_module": "@jupyter-widgets/base",
          "model_name": "LayoutModel",
          "model_module_version": "1.2.0",
          "state": {
            "_model_module": "@jupyter-widgets/base",
            "_model_module_version": "1.2.0",
            "_model_name": "LayoutModel",
            "_view_count": null,
            "_view_module": "@jupyter-widgets/base",
            "_view_module_version": "1.2.0",
            "_view_name": "LayoutView",
            "align_content": null,
            "align_items": null,
            "align_self": null,
            "border": null,
            "bottom": null,
            "display": null,
            "flex": null,
            "flex_flow": null,
            "grid_area": null,
            "grid_auto_columns": null,
            "grid_auto_flow": null,
            "grid_auto_rows": null,
            "grid_column": null,
            "grid_gap": null,
            "grid_row": null,
            "grid_template_areas": null,
            "grid_template_columns": null,
            "grid_template_rows": null,
            "height": null,
            "justify_content": null,
            "justify_items": null,
            "left": null,
            "margin": null,
            "max_height": null,
            "max_width": null,
            "min_height": null,
            "min_width": null,
            "object_fit": null,
            "object_position": null,
            "order": null,
            "overflow": null,
            "overflow_x": null,
            "overflow_y": null,
            "padding": null,
            "right": null,
            "top": null,
            "visibility": null,
            "width": null
          }
        },
        "4d0776cf97ef4eb58bab751a8ce8b9cc": {
          "model_module": "@jupyter-widgets/controls",
          "model_name": "DescriptionStyleModel",
          "model_module_version": "1.5.0",
          "state": {
            "_model_module": "@jupyter-widgets/controls",
            "_model_module_version": "1.5.0",
            "_model_name": "DescriptionStyleModel",
            "_view_count": null,
            "_view_module": "@jupyter-widgets/base",
            "_view_module_version": "1.2.0",
            "_view_name": "StyleView",
            "description_width": ""
          }
        },
        "8f0820d741bd4082911fc25f70b14a7c": {
          "model_module": "@jupyter-widgets/controls",
          "model_name": "HBoxModel",
          "model_module_version": "1.5.0",
          "state": {
            "_dom_classes": [],
            "_model_module": "@jupyter-widgets/controls",
            "_model_module_version": "1.5.0",
            "_model_name": "HBoxModel",
            "_view_count": null,
            "_view_module": "@jupyter-widgets/controls",
            "_view_module_version": "1.5.0",
            "_view_name": "HBoxView",
            "box_style": "",
            "children": [
              "IPY_MODEL_1ae2836e79f346a988afa559d8d70e23",
              "IPY_MODEL_10470e160dd74d968cfa95b285f623b6",
              "IPY_MODEL_fb58d4b336fe41fd955ed41bb2b78821"
            ],
            "layout": "IPY_MODEL_8d778d346c2e4aea821c0e388fef2464"
          }
        },
        "1ae2836e79f346a988afa559d8d70e23": {
          "model_module": "@jupyter-widgets/controls",
          "model_name": "HTMLModel",
          "model_module_version": "1.5.0",
          "state": {
            "_dom_classes": [],
            "_model_module": "@jupyter-widgets/controls",
            "_model_module_version": "1.5.0",
            "_model_name": "HTMLModel",
            "_view_count": null,
            "_view_module": "@jupyter-widgets/controls",
            "_view_module_version": "1.5.0",
            "_view_name": "HTMLView",
            "description": "",
            "description_tooltip": null,
            "layout": "IPY_MODEL_d42bb6b677894e73ad48110d49fd65b2",
            "placeholder": "​",
            "style": "IPY_MODEL_fd7756dd25cd4e66bf77f5f839f9ef97",
            "value": "Downloading: 100%"
          }
        },
        "10470e160dd74d968cfa95b285f623b6": {
          "model_module": "@jupyter-widgets/controls",
          "model_name": "FloatProgressModel",
          "model_module_version": "1.5.0",
          "state": {
            "_dom_classes": [],
            "_model_module": "@jupyter-widgets/controls",
            "_model_module_version": "1.5.0",
            "_model_name": "FloatProgressModel",
            "_view_count": null,
            "_view_module": "@jupyter-widgets/controls",
            "_view_module_version": "1.5.0",
            "_view_name": "ProgressView",
            "bar_style": "success",
            "description": "",
            "description_tooltip": null,
            "layout": "IPY_MODEL_9d02c0172d394d1582f6e2762e1fb7d5",
            "max": 1115590446,
            "min": 0,
            "orientation": "horizontal",
            "style": "IPY_MODEL_43f257da4bc34df1a57947653501c98d",
            "value": 1115590446
          }
        },
        "fb58d4b336fe41fd955ed41bb2b78821": {
          "model_module": "@jupyter-widgets/controls",
          "model_name": "HTMLModel",
          "model_module_version": "1.5.0",
          "state": {
            "_dom_classes": [],
            "_model_module": "@jupyter-widgets/controls",
            "_model_module_version": "1.5.0",
            "_model_name": "HTMLModel",
            "_view_count": null,
            "_view_module": "@jupyter-widgets/controls",
            "_view_module_version": "1.5.0",
            "_view_name": "HTMLView",
            "description": "",
            "description_tooltip": null,
            "layout": "IPY_MODEL_86e945dc62c949fb844887c1fb382f69",
            "placeholder": "​",
            "style": "IPY_MODEL_34a483833e724caeaa54f2e1333772b3",
            "value": " 1.12G/1.12G [00:24&lt;00:00, 64.2MB/s]"
          }
        },
        "8d778d346c2e4aea821c0e388fef2464": {
          "model_module": "@jupyter-widgets/base",
          "model_name": "LayoutModel",
          "model_module_version": "1.2.0",
          "state": {
            "_model_module": "@jupyter-widgets/base",
            "_model_module_version": "1.2.0",
            "_model_name": "LayoutModel",
            "_view_count": null,
            "_view_module": "@jupyter-widgets/base",
            "_view_module_version": "1.2.0",
            "_view_name": "LayoutView",
            "align_content": null,
            "align_items": null,
            "align_self": null,
            "border": null,
            "bottom": null,
            "display": null,
            "flex": null,
            "flex_flow": null,
            "grid_area": null,
            "grid_auto_columns": null,
            "grid_auto_flow": null,
            "grid_auto_rows": null,
            "grid_column": null,
            "grid_gap": null,
            "grid_row": null,
            "grid_template_areas": null,
            "grid_template_columns": null,
            "grid_template_rows": null,
            "height": null,
            "justify_content": null,
            "justify_items": null,
            "left": null,
            "margin": null,
            "max_height": null,
            "max_width": null,
            "min_height": null,
            "min_width": null,
            "object_fit": null,
            "object_position": null,
            "order": null,
            "overflow": null,
            "overflow_x": null,
            "overflow_y": null,
            "padding": null,
            "right": null,
            "top": null,
            "visibility": null,
            "width": null
          }
        },
        "d42bb6b677894e73ad48110d49fd65b2": {
          "model_module": "@jupyter-widgets/base",
          "model_name": "LayoutModel",
          "model_module_version": "1.2.0",
          "state": {
            "_model_module": "@jupyter-widgets/base",
            "_model_module_version": "1.2.0",
            "_model_name": "LayoutModel",
            "_view_count": null,
            "_view_module": "@jupyter-widgets/base",
            "_view_module_version": "1.2.0",
            "_view_name": "LayoutView",
            "align_content": null,
            "align_items": null,
            "align_self": null,
            "border": null,
            "bottom": null,
            "display": null,
            "flex": null,
            "flex_flow": null,
            "grid_area": null,
            "grid_auto_columns": null,
            "grid_auto_flow": null,
            "grid_auto_rows": null,
            "grid_column": null,
            "grid_gap": null,
            "grid_row": null,
            "grid_template_areas": null,
            "grid_template_columns": null,
            "grid_template_rows": null,
            "height": null,
            "justify_content": null,
            "justify_items": null,
            "left": null,
            "margin": null,
            "max_height": null,
            "max_width": null,
            "min_height": null,
            "min_width": null,
            "object_fit": null,
            "object_position": null,
            "order": null,
            "overflow": null,
            "overflow_x": null,
            "overflow_y": null,
            "padding": null,
            "right": null,
            "top": null,
            "visibility": null,
            "width": null
          }
        },
        "fd7756dd25cd4e66bf77f5f839f9ef97": {
          "model_module": "@jupyter-widgets/controls",
          "model_name": "DescriptionStyleModel",
          "model_module_version": "1.5.0",
          "state": {
            "_model_module": "@jupyter-widgets/controls",
            "_model_module_version": "1.5.0",
            "_model_name": "DescriptionStyleModel",
            "_view_count": null,
            "_view_module": "@jupyter-widgets/base",
            "_view_module_version": "1.2.0",
            "_view_name": "StyleView",
            "description_width": ""
          }
        },
        "9d02c0172d394d1582f6e2762e1fb7d5": {
          "model_module": "@jupyter-widgets/base",
          "model_name": "LayoutModel",
          "model_module_version": "1.2.0",
          "state": {
            "_model_module": "@jupyter-widgets/base",
            "_model_module_version": "1.2.0",
            "_model_name": "LayoutModel",
            "_view_count": null,
            "_view_module": "@jupyter-widgets/base",
            "_view_module_version": "1.2.0",
            "_view_name": "LayoutView",
            "align_content": null,
            "align_items": null,
            "align_self": null,
            "border": null,
            "bottom": null,
            "display": null,
            "flex": null,
            "flex_flow": null,
            "grid_area": null,
            "grid_auto_columns": null,
            "grid_auto_flow": null,
            "grid_auto_rows": null,
            "grid_column": null,
            "grid_gap": null,
            "grid_row": null,
            "grid_template_areas": null,
            "grid_template_columns": null,
            "grid_template_rows": null,
            "height": null,
            "justify_content": null,
            "justify_items": null,
            "left": null,
            "margin": null,
            "max_height": null,
            "max_width": null,
            "min_height": null,
            "min_width": null,
            "object_fit": null,
            "object_position": null,
            "order": null,
            "overflow": null,
            "overflow_x": null,
            "overflow_y": null,
            "padding": null,
            "right": null,
            "top": null,
            "visibility": null,
            "width": null
          }
        },
        "43f257da4bc34df1a57947653501c98d": {
          "model_module": "@jupyter-widgets/controls",
          "model_name": "ProgressStyleModel",
          "model_module_version": "1.5.0",
          "state": {
            "_model_module": "@jupyter-widgets/controls",
            "_model_module_version": "1.5.0",
            "_model_name": "ProgressStyleModel",
            "_view_count": null,
            "_view_module": "@jupyter-widgets/base",
            "_view_module_version": "1.2.0",
            "_view_name": "StyleView",
            "bar_color": null,
            "description_width": ""
          }
        },
        "86e945dc62c949fb844887c1fb382f69": {
          "model_module": "@jupyter-widgets/base",
          "model_name": "LayoutModel",
          "model_module_version": "1.2.0",
          "state": {
            "_model_module": "@jupyter-widgets/base",
            "_model_module_version": "1.2.0",
            "_model_name": "LayoutModel",
            "_view_count": null,
            "_view_module": "@jupyter-widgets/base",
            "_view_module_version": "1.2.0",
            "_view_name": "LayoutView",
            "align_content": null,
            "align_items": null,
            "align_self": null,
            "border": null,
            "bottom": null,
            "display": null,
            "flex": null,
            "flex_flow": null,
            "grid_area": null,
            "grid_auto_columns": null,
            "grid_auto_flow": null,
            "grid_auto_rows": null,
            "grid_column": null,
            "grid_gap": null,
            "grid_row": null,
            "grid_template_areas": null,
            "grid_template_columns": null,
            "grid_template_rows": null,
            "height": null,
            "justify_content": null,
            "justify_items": null,
            "left": null,
            "margin": null,
            "max_height": null,
            "max_width": null,
            "min_height": null,
            "min_width": null,
            "object_fit": null,
            "object_position": null,
            "order": null,
            "overflow": null,
            "overflow_x": null,
            "overflow_y": null,
            "padding": null,
            "right": null,
            "top": null,
            "visibility": null,
            "width": null
          }
        },
        "34a483833e724caeaa54f2e1333772b3": {
          "model_module": "@jupyter-widgets/controls",
          "model_name": "DescriptionStyleModel",
          "model_module_version": "1.5.0",
          "state": {
            "_model_module": "@jupyter-widgets/controls",
            "_model_module_version": "1.5.0",
            "_model_name": "DescriptionStyleModel",
            "_view_count": null,
            "_view_module": "@jupyter-widgets/base",
            "_view_module_version": "1.2.0",
            "_view_name": "StyleView",
            "description_width": ""
          }
        }
      }
    }
  },
  "cells": [
    {
      "cell_type": "markdown",
      "source": [
        "### 0. Clone for data extraction"
      ],
      "metadata": {
        "id": "1B-rEIPXg23q"
      }
    },
    {
      "cell_type": "code",
      "execution_count": 1,
      "metadata": {
        "colab": {
          "base_uri": "https://localhost:8080/"
        },
        "id": "sfFYZC5Zgvjz",
        "outputId": "79d8847e-71bb-430c-a949-790255cf80f3"
      },
      "outputs": [
        {
          "output_type": "stream",
          "name": "stdout",
          "text": [
            "Cloning into 'Identifying-Incomplete-House-Addresses'...\n",
            "remote: Enumerating objects: 21, done.\u001b[K\n",
            "remote: Counting objects: 100% (21/21), done.\u001b[K\n",
            "remote: Compressing objects: 100% (16/16), done.\u001b[K\n",
            "remote: Total 21 (delta 4), reused 0 (delta 0), pack-reused 0\u001b[K\n",
            "Unpacking objects: 100% (21/21), 1.86 MiB | 6.23 MiB/s, done.\n"
          ]
        }
      ],
      "source": [
        "!git clone https://github.com/Daremitsu1/Identifying-Incomplete-House-Addresses.git"
      ]
    },
    {
      "cell_type": "markdown",
      "source": [
        "### 1. Install Dependencies"
      ],
      "metadata": {
        "id": "1SwUT2J7g-O1"
      }
    },
    {
      "cell_type": "code",
      "source": [
        "!sudo apt-get install libkrb5-dev"
      ],
      "metadata": {
        "colab": {
          "base_uri": "https://localhost:8080/"
        },
        "id": "5T8dYVXug9lw",
        "outputId": "632d1272-7fda-4d67-a864-4667f1db1679"
      },
      "execution_count": 2,
      "outputs": [
        {
          "output_type": "stream",
          "name": "stdout",
          "text": [
            "Reading package lists... Done\n",
            "Building dependency tree       \n",
            "Reading state information... Done\n",
            "libkrb5-dev is already the newest version (1.17-6ubuntu4.2).\n",
            "libkrb5-dev set to manually installed.\n",
            "The following package was automatically installed and is no longer required:\n",
            "  libnvidia-common-510\n",
            "Use 'sudo apt autoremove' to remove it.\n",
            "0 upgraded, 0 newly installed, 0 to remove and 21 not upgraded.\n"
          ]
        }
      ]
    },
    {
      "cell_type": "code",
      "source": [
        "!pip install arcgis==1.8.4  torch==1.4.0  fastai==1.0.60 torchvision==0.5.0 fastprogress pandas "
      ],
      "metadata": {
        "id": "h8WYn9SVqz3J"
      },
      "execution_count": null,
      "outputs": []
    },
    {
      "cell_type": "code",
      "source": [
        "!pip install transformers==3.3.0"
      ],
      "metadata": {
        "id": "iCaR8FiUg76c"
      },
      "execution_count": null,
      "outputs": []
    },
    {
      "cell_type": "code",
      "source": [
        "!pip list"
      ],
      "metadata": {
        "id": "501jvwEb4jyN"
      },
      "execution_count": null,
      "outputs": []
    },
    {
      "cell_type": "markdown",
      "source": [
        "### 2. Necessary Imports"
      ],
      "metadata": {
        "id": "6q_JUfGahtei"
      }
    },
    {
      "cell_type": "code",
      "source": [
        "import os, zipfile, pandas as pd\n",
        "from pathlib import Path \n",
        "from arcgis.learn import prepare_textdata \n",
        "from arcgis.learn.text import TextClassifier"
      ],
      "metadata": {
        "id": "P1i4NGRihq8l"
      },
      "execution_count": 5,
      "outputs": []
    },
    {
      "cell_type": "markdown",
      "source": [
        "### 3. Data Preparation"
      ],
      "metadata": {
        "id": "DOrrOGd7iLnG"
      }
    },
    {
      "cell_type": "code",
      "source": [
        "filepath = 'country_classifier.zip'"
      ],
      "metadata": {
        "id": "Pnz0F6GziN1k"
      },
      "execution_count": 6,
      "outputs": []
    },
    {
      "cell_type": "code",
      "source": [
        "with zipfile.ZipFile(filepath, 'r') as zip_ref:\n",
        "    zip_ref.extractall(Path(filepath).parent)"
      ],
      "metadata": {
        "id": "8fmf9gB5iRn6"
      },
      "execution_count": 7,
      "outputs": []
    },
    {
      "cell_type": "code",
      "source": [
        "DATA_ROOT = Path(os.path.join(os.path.splitext(filepath)[0]))"
      ],
      "metadata": {
        "id": "orrd_27KiUZq"
      },
      "execution_count": 8,
      "outputs": []
    },
    {
      "cell_type": "code",
      "source": [
        "data = prepare_textdata(DATA_ROOT, \"classification\", train_file=\"country_addresses.csv\", \n",
        "                        text_columns=\"Address\", label_columns=\"Country\", batch_size=64)"
      ],
      "metadata": {
        "id": "z8wh8jHriUtK"
      },
      "execution_count": 10,
      "outputs": []
    },
    {
      "cell_type": "code",
      "source": [
        "print(data.classes)"
      ],
      "metadata": {
        "id": "D2qP_EWtiVJf",
        "colab": {
          "base_uri": "https://localhost:8080/"
        },
        "outputId": "2ac7d3da-20a0-4c29-e837-21b7554d8542"
      },
      "execution_count": 11,
      "outputs": [
        {
          "output_type": "stream",
          "name": "stdout",
          "text": [
            "['BE', 'AU', 'ES', 'CA']\n"
          ]
        }
      ]
    },
    {
      "cell_type": "code",
      "source": [
        "data.show_batch(10)"
      ],
      "metadata": {
        "id": "ly8vqr8IiVfY",
        "colab": {
          "base_uri": "https://localhost:8080/",
          "height": 363
        },
        "outputId": "49043b01-a6cd-4543-fdfe-fc83a3633c25"
      },
      "execution_count": 12,
      "outputs": [
        {
          "output_type": "execute_result",
          "data": {
            "text/plain": [
              "<pandas.io.formats.style.Styler at 0x7fd1aeac6bb0>"
            ],
            "text/html": [
              "<style type=\"text/css\">\n",
              "#T_264a5_ th {\n",
              "  text-align: left;\n",
              "}\n",
              "#T_264a5_row0_col0, #T_264a5_row0_col1, #T_264a5_row1_col0, #T_264a5_row1_col1, #T_264a5_row2_col0, #T_264a5_row2_col1, #T_264a5_row3_col0, #T_264a5_row3_col1, #T_264a5_row4_col0, #T_264a5_row4_col1, #T_264a5_row5_col0, #T_264a5_row5_col1, #T_264a5_row6_col0, #T_264a5_row6_col1, #T_264a5_row7_col0, #T_264a5_row7_col1, #T_264a5_row8_col0, #T_264a5_row8_col1, #T_264a5_row9_col0, #T_264a5_row9_col1 {\n",
              "  text-align: left;\n",
              "}\n",
              "</style>\n",
              "<table id=\"T_264a5_\" class=\"dataframe\">\n",
              "  <thead>\n",
              "    <tr>\n",
              "      <th class=\"col_heading level0 col0\" >Address</th>\n",
              "      <th class=\"col_heading level0 col1\" >Country</th>\n",
              "    </tr>\n",
              "  </thead>\n",
              "  <tbody>\n",
              "    <tr>\n",
              "      <td id=\"T_264a5_row0_col0\" class=\"data row0 col0\" >303, UPPER PENNEYS HILL ROAD, ONKAPARINGA HILLS, SA, 5163</td>\n",
              "      <td id=\"T_264a5_row0_col1\" class=\"data row0 col1\" >AU</td>\n",
              "    </tr>\n",
              "    <tr>\n",
              "      <td id=\"T_264a5_row1_col0\" class=\"data row1 col0\" >257, Brusselsesteenweg, 1730</td>\n",
              "      <td id=\"T_264a5_row1_col1\" class=\"data row1 col1\" >BE</td>\n",
              "    </tr>\n",
              "    <tr>\n",
              "      <td id=\"T_264a5_row2_col0\" class=\"data row2 col0\" >28, Avenue d'Itterbeek, 1eET, 1070</td>\n",
              "      <td id=\"T_264a5_row2_col1\" class=\"data row2 col1\" >BE</td>\n",
              "    </tr>\n",
              "    <tr>\n",
              "      <td id=\"T_264a5_row3_col0\" class=\"data row3 col0\" >70, Merksemsebaan, Wijnegem, 2110</td>\n",
              "      <td id=\"T_264a5_row3_col1\" class=\"data row3 col1\" >BE</td>\n",
              "    </tr>\n",
              "    <tr>\n",
              "      <td id=\"T_264a5_row4_col0\" class=\"data row4 col0\" >20, CL JUAN MAMBRILLA, 47003</td>\n",
              "      <td id=\"T_264a5_row4_col1\" class=\"data row4 col1\" >ES</td>\n",
              "    </tr>\n",
              "    <tr>\n",
              "      <td id=\"T_264a5_row5_col0\" class=\"data row5 col0\" >968, Ritchie  Dr, Halifax, Halifax County</td>\n",
              "      <td id=\"T_264a5_row5_col1\" class=\"data row5 col1\" >CA</td>\n",
              "    </tr>\n",
              "    <tr>\n",
              "      <td id=\"T_264a5_row6_col0\" class=\"data row6 col0\" >31, Schapenstraat, 3080</td>\n",
              "      <td id=\"T_264a5_row6_col1\" class=\"data row6 col1\" >BE</td>\n",
              "    </tr>\n",
              "    <tr>\n",
              "      <td id=\"T_264a5_row7_col0\" class=\"data row7 col0\" >3D, Avenue de l'Hôpital, 5-2, 7000</td>\n",
              "      <td id=\"T_264a5_row7_col1\" class=\"data row7 col1\" >BE</td>\n",
              "    </tr>\n",
              "    <tr>\n",
              "      <td id=\"T_264a5_row8_col0\" class=\"data row8 col0\" >476, ST ANDREWS POINT RD, LOWER MONTAGUE, KNS</td>\n",
              "      <td id=\"T_264a5_row8_col1\" class=\"data row8 col1\" >CA</td>\n",
              "    </tr>\n",
              "    <tr>\n",
              "      <td id=\"T_264a5_row9_col0\" class=\"data row9 col0\" >18, HULL STREET, UNIT 5, GLENORCHY, TAS, 7010</td>\n",
              "      <td id=\"T_264a5_row9_col1\" class=\"data row9 col1\" >AU</td>\n",
              "    </tr>\n",
              "  </tbody>\n",
              "</table>\n"
            ]
          },
          "metadata": {},
          "execution_count": 12
        }
      ]
    },
    {
      "cell_type": "markdown",
      "source": [
        "### 4. TextClassifier Model"
      ],
      "metadata": {
        "id": "BWv5aLd6ioSm"
      }
    },
    {
      "cell_type": "code",
      "source": [
        "print(TextClassifier.supported_backbones)"
      ],
      "metadata": {
        "id": "TNyE0VU8iV94",
        "colab": {
          "base_uri": "https://localhost:8080/"
        },
        "outputId": "388fd8dd-fe9f-4769-d6c1-161440ae4507"
      },
      "execution_count": 13,
      "outputs": [
        {
          "output_type": "stream",
          "name": "stdout",
          "text": [
            "['BERT', 'RoBERTa', 'DistilBERT', 'ALBERT', 'FlauBERT', 'CamemBERT', 'XLNet', 'XLM', 'XLM-RoBERTa', 'Bart', 'ELECTRA', 'Longformer', 'MobileBERT']\n"
          ]
        }
      ]
    },
    {
      "cell_type": "code",
      "source": [
        "print(TextClassifier.available_backbone_models(\"xlm-roberta\"))"
      ],
      "metadata": {
        "id": "__Uh0slaitNV",
        "colab": {
          "base_uri": "https://localhost:8080/"
        },
        "outputId": "3e5c174e-1eb6-4e8c-b253-8ca3abb0319a"
      },
      "execution_count": 14,
      "outputs": [
        {
          "output_type": "stream",
          "name": "stdout",
          "text": [
            "('xlm-roberta-base', 'xlm-roberta-large')\n"
          ]
        }
      ]
    },
    {
      "cell_type": "markdown",
      "source": [
        "### 5. Load Model Architecture"
      ],
      "metadata": {
        "id": "LOtwtE2ljJ5i"
      }
    },
    {
      "cell_type": "code",
      "source": [
        "model = TextClassifier(data, backbone=\"xlm-roberta-base\")"
      ],
      "metadata": {
        "id": "1EK5tiMWjKaz",
        "colab": {
          "base_uri": "https://localhost:8080/",
          "height": 188,
          "referenced_widgets": [
            "68b9f72df6ce4996862e7054bba2dcf5",
            "407f434c102f49e8b5df65b1e621eba4",
            "7ad7b83d72e54d9ca104be04c1d18fad",
            "efcc6a3bc7634013b14cb5440e43aa7d",
            "fe5422f8b82842e1bac35ee5f5c9a1c5",
            "64fc9946bc96425abb4fb37624796a1e",
            "599cc917e6c44e1280003ce7a9d95584",
            "23bf2b3d130f4623a3ef6ca329bc80a3",
            "3b53ecc622974a4b94420d658072ed84",
            "3b3ad3ba9458453cb3dbd1cca8d0f94e",
            "7f493bc4b3544e0c90cc091afcfacf4b",
            "44e698d774344211a1094c21e1285dfe",
            "b46641d1a77b40338ee1c5f8b6d5af09",
            "639388ea195d4b8ba51911395981ad49",
            "a72a4883ac51445e8ce25c733ed4efcc",
            "56bd277de93d463eaf534700bfb5cb63",
            "54399d0d60054f79bb58d081a997e10c",
            "1c8a14ace8d2413f8c018de13ee8687a",
            "b856e49a781b41999d071c5469ac3379",
            "1fb9f7990a8e4fc392b76b274c8b7b14",
            "1e02f0d55b4d43e08ca3aa9d06f89b39",
            "4d0776cf97ef4eb58bab751a8ce8b9cc",
            "8f0820d741bd4082911fc25f70b14a7c",
            "1ae2836e79f346a988afa559d8d70e23",
            "10470e160dd74d968cfa95b285f623b6",
            "fb58d4b336fe41fd955ed41bb2b78821",
            "8d778d346c2e4aea821c0e388fef2464",
            "d42bb6b677894e73ad48110d49fd65b2",
            "fd7756dd25cd4e66bf77f5f839f9ef97",
            "9d02c0172d394d1582f6e2762e1fb7d5",
            "43f257da4bc34df1a57947653501c98d",
            "86e945dc62c949fb844887c1fb382f69",
            "34a483833e724caeaa54f2e1333772b3"
          ]
        },
        "outputId": "08b67383-d3a5-4282-f31a-e18878db6a31"
      },
      "execution_count": 15,
      "outputs": [
        {
          "output_type": "display_data",
          "data": {
            "text/plain": [
              "Downloading:   0%|          | 0.00/512 [00:00<?, ?B/s]"
            ],
            "application/vnd.jupyter.widget-view+json": {
              "version_major": 2,
              "version_minor": 0,
              "model_id": "68b9f72df6ce4996862e7054bba2dcf5"
            }
          },
          "metadata": {}
        },
        {
          "output_type": "display_data",
          "data": {
            "text/plain": [
              "Downloading:   0%|          | 0.00/5.07M [00:00<?, ?B/s]"
            ],
            "application/vnd.jupyter.widget-view+json": {
              "version_major": 2,
              "version_minor": 0,
              "model_id": "44e698d774344211a1094c21e1285dfe"
            }
          },
          "metadata": {}
        },
        {
          "output_type": "display_data",
          "data": {
            "text/plain": [
              "<IPython.core.display.HTML object>"
            ],
            "text/html": [
              "\n",
              "<style>\n",
              "    /* Turns off some styling */\n",
              "    progress {\n",
              "        /* gets rid of default border in Firefox and Opera. */\n",
              "        border: none;\n",
              "        /* Needs to be in here for Safari polyfill so background images work as expected. */\n",
              "        background-size: auto;\n",
              "    }\n",
              "    progress:not([value]), progress:not([value])::-webkit-progress-bar {\n",
              "        background: repeating-linear-gradient(45deg, #7e7e7e, #7e7e7e 10px, #5c5c5c 10px, #5c5c5c 20px);\n",
              "    }\n",
              "    .progress-bar-interrupted, .progress-bar-interrupted::-webkit-progress-bar {\n",
              "        background: #F44336;\n",
              "    }\n",
              "</style>\n"
            ]
          },
          "metadata": {}
        },
        {
          "output_type": "display_data",
          "data": {
            "text/plain": [
              "<IPython.core.display.HTML object>"
            ],
            "text/html": []
          },
          "metadata": {}
        },
        {
          "output_type": "display_data",
          "data": {
            "text/plain": [
              "<IPython.core.display.HTML object>"
            ],
            "text/html": [
              "\n",
              "<style>\n",
              "    /* Turns off some styling */\n",
              "    progress {\n",
              "        /* gets rid of default border in Firefox and Opera. */\n",
              "        border: none;\n",
              "        /* Needs to be in here for Safari polyfill so background images work as expected. */\n",
              "        background-size: auto;\n",
              "    }\n",
              "    progress:not([value]), progress:not([value])::-webkit-progress-bar {\n",
              "        background: repeating-linear-gradient(45deg, #7e7e7e, #7e7e7e 10px, #5c5c5c 10px, #5c5c5c 20px);\n",
              "    }\n",
              "    .progress-bar-interrupted, .progress-bar-interrupted::-webkit-progress-bar {\n",
              "        background: #F44336;\n",
              "    }\n",
              "</style>\n"
            ]
          },
          "metadata": {}
        },
        {
          "output_type": "display_data",
          "data": {
            "text/plain": [
              "<IPython.core.display.HTML object>"
            ],
            "text/html": []
          },
          "metadata": {}
        },
        {
          "output_type": "stream",
          "name": "stderr",
          "text": [
            "/usr/local/lib/python3.8/dist-packages/fastai/text/data.py:124: VisibleDeprecationWarning: Creating an ndarray from ragged nested sequences (which is a list-or-tuple of lists-or-tuples-or ndarrays with different lengths or shapes) is deprecated. If you meant to do this, you must specify 'dtype=object' when creating the ndarray.\n",
            "  sort_idx = np.concatenate(np.random.permutation(ck_idx[1:])) if len(ck_idx) > 1 else np.array([],dtype=np.int)\n",
            "<__array_function__ internals>:5: VisibleDeprecationWarning: Creating an ndarray from ragged nested sequences (which is a list-or-tuple of lists-or-tuples-or ndarrays with different lengths or shapes) is deprecated. If you meant to do this, you must specify 'dtype=object' when creating the ndarray.\n"
          ]
        },
        {
          "output_type": "display_data",
          "data": {
            "text/plain": [
              "Downloading:   0%|          | 0.00/1.12G [00:00<?, ?B/s]"
            ],
            "application/vnd.jupyter.widget-view+json": {
              "version_major": 2,
              "version_minor": 0,
              "model_id": "8f0820d741bd4082911fc25f70b14a7c"
            }
          },
          "metadata": {}
        }
      ]
    },
    {
      "cell_type": "markdown",
      "source": [
        "### 6. Model Training"
      ],
      "metadata": {
        "id": "vgkgOszYjUmt"
      }
    },
    {
      "cell_type": "code",
      "source": [
        "model.lr_find()"
      ],
      "metadata": {
        "id": "W4cku1cNjQi0",
        "colab": {
          "base_uri": "https://localhost:8080/",
          "height": 297
        },
        "outputId": "55598da1-e5b8-43c2-df6b-9f588f3573e3"
      },
      "execution_count": 16,
      "outputs": [
        {
          "output_type": "display_data",
          "data": {
            "text/plain": [
              "<Figure size 432x288 with 1 Axes>"
            ],
            "image/png": "[encoded data removed]"
          },
          "metadata": {
            "needs_background": "light"
          }
        },
        {
          "output_type": "execute_result",
          "data": {
            "text/plain": [
              "0.0005754399373371565"
            ]
          },
          "metadata": {},
          "execution_count": 16
        }
      ]
    },
    {
      "cell_type": "code",
      "source": [
        "model.fit(epochs=4, lr=0.001)"
      ],
      "metadata": {
        "id": "vuAaLWmwjQfV",
        "colab": {
          "base_uri": "https://localhost:8080/",
          "height": 175
        },
        "outputId": "7651a7ab-40c0-4dd1-a387-b5d1cc52c8af"
      },
      "execution_count": 17,
      "outputs": [
        {
          "output_type": "display_data",
          "data": {
            "text/plain": [
              "<IPython.core.display.HTML object>"
            ],
            "text/html": [
              "\n",
              "<style>\n",
              "    /* Turns off some styling */\n",
              "    progress {\n",
              "        /* gets rid of default border in Firefox and Opera. */\n",
              "        border: none;\n",
              "        /* Needs to be in here for Safari polyfill so background images work as expected. */\n",
              "        background-size: auto;\n",
              "    }\n",
              "    progress:not([value]), progress:not([value])::-webkit-progress-bar {\n",
              "        background: repeating-linear-gradient(45deg, #7e7e7e, #7e7e7e 10px, #5c5c5c 10px, #5c5c5c 20px);\n",
              "    }\n",
              "    .progress-bar-interrupted, .progress-bar-interrupted::-webkit-progress-bar {\n",
              "        background: #F44336;\n",
              "    }\n",
              "</style>\n"
            ]
          },
          "metadata": {}
        },
        {
          "output_type": "display_data",
          "data": {
            "text/plain": [
              "<IPython.core.display.HTML object>"
            ],
            "text/html": [
              "<table border=\"1\" class=\"dataframe\">\n",
              "  <thead>\n",
              "    <tr style=\"text-align: left;\">\n",
              "      <th>epoch</th>\n",
              "      <th>train_loss</th>\n",
              "      <th>valid_loss</th>\n",
              "      <th>accuracy</th>\n",
              "      <th>error_rate</th>\n",
              "      <th>time</th>\n",
              "    </tr>\n",
              "  </thead>\n",
              "  <tbody>\n",
              "    <tr>\n",
              "      <td>0</td>\n",
              "      <td>1.389619</td>\n",
              "      <td>1.370961</td>\n",
              "      <td>0.409836</td>\n",
              "      <td>0.590164</td>\n",
              "      <td>00:02</td>\n",
              "    </tr>\n",
              "    <tr>\n",
              "      <td>1</td>\n",
              "      <td>1.434942</td>\n",
              "      <td>1.274257</td>\n",
              "      <td>0.409836</td>\n",
              "      <td>0.590164</td>\n",
              "      <td>00:01</td>\n",
              "    </tr>\n",
              "    <tr>\n",
              "      <td>2</td>\n",
              "      <td>1.363781</td>\n",
              "      <td>1.316854</td>\n",
              "      <td>0.409836</td>\n",
              "      <td>0.590164</td>\n",
              "      <td>00:01</td>\n",
              "    </tr>\n",
              "    <tr>\n",
              "      <td>3</td>\n",
              "      <td>1.339480</td>\n",
              "      <td>1.317004</td>\n",
              "      <td>0.409836</td>\n",
              "      <td>0.590164</td>\n",
              "      <td>00:01</td>\n",
              "    </tr>\n",
              "  </tbody>\n",
              "</table>"
            ]
          },
          "metadata": {}
        }
      ]
    },
    {
      "cell_type": "code",
      "source": [
        "# Unfreeze earlier layers to further fine-tune the model\n",
        "model.unfreeze()\n",
        "\n",
        "model.fit(epochs=20)"
      ],
      "metadata": {
        "id": "zzEEi6KijQdn",
        "colab": {
          "base_uri": "https://localhost:8080/",
          "height": 676
        },
        "outputId": "81706844-6256-457e-9a32-ecd519fd9636"
      },
      "execution_count": 25,
      "outputs": [
        {
          "output_type": "display_data",
          "data": {
            "text/plain": [
              "<IPython.core.display.HTML object>"
            ],
            "text/html": [
              "\n",
              "<style>\n",
              "    /* Turns off some styling */\n",
              "    progress {\n",
              "        /* gets rid of default border in Firefox and Opera. */\n",
              "        border: none;\n",
              "        /* Needs to be in here for Safari polyfill so background images work as expected. */\n",
              "        background-size: auto;\n",
              "    }\n",
              "    progress:not([value]), progress:not([value])::-webkit-progress-bar {\n",
              "        background: repeating-linear-gradient(45deg, #7e7e7e, #7e7e7e 10px, #5c5c5c 10px, #5c5c5c 20px);\n",
              "    }\n",
              "    .progress-bar-interrupted, .progress-bar-interrupted::-webkit-progress-bar {\n",
              "        background: #F44336;\n",
              "    }\n",
              "</style>\n"
            ]
          },
          "metadata": {}
        },
        {
          "output_type": "display_data",
          "data": {
            "text/plain": [
              "<IPython.core.display.HTML object>"
            ],
            "text/html": [
              "<table border=\"1\" class=\"dataframe\">\n",
              "  <thead>\n",
              "    <tr style=\"text-align: left;\">\n",
              "      <th>epoch</th>\n",
              "      <th>train_loss</th>\n",
              "      <th>valid_loss</th>\n",
              "      <th>accuracy</th>\n",
              "      <th>error_rate</th>\n",
              "      <th>time</th>\n",
              "    </tr>\n",
              "  </thead>\n",
              "  <tbody>\n",
              "    <tr>\n",
              "      <td>0</td>\n",
              "      <td>0.857449</td>\n",
              "      <td>0.963201</td>\n",
              "      <td>0.590164</td>\n",
              "      <td>0.409836</td>\n",
              "      <td>00:03</td>\n",
              "    </tr>\n",
              "    <tr>\n",
              "      <td>1</td>\n",
              "      <td>0.838847</td>\n",
              "      <td>0.923048</td>\n",
              "      <td>0.590164</td>\n",
              "      <td>0.409836</td>\n",
              "      <td>00:03</td>\n",
              "    </tr>\n",
              "    <tr>\n",
              "      <td>2</td>\n",
              "      <td>0.812575</td>\n",
              "      <td>0.801188</td>\n",
              "      <td>0.655738</td>\n",
              "      <td>0.344262</td>\n",
              "      <td>00:03</td>\n",
              "    </tr>\n",
              "    <tr>\n",
              "      <td>3</td>\n",
              "      <td>0.783079</td>\n",
              "      <td>0.689692</td>\n",
              "      <td>0.803279</td>\n",
              "      <td>0.196721</td>\n",
              "      <td>00:03</td>\n",
              "    </tr>\n",
              "    <tr>\n",
              "      <td>4</td>\n",
              "      <td>0.747281</td>\n",
              "      <td>0.533852</td>\n",
              "      <td>0.852459</td>\n",
              "      <td>0.147541</td>\n",
              "      <td>00:03</td>\n",
              "    </tr>\n",
              "    <tr>\n",
              "      <td>5</td>\n",
              "      <td>0.699880</td>\n",
              "      <td>0.441889</td>\n",
              "      <td>0.868852</td>\n",
              "      <td>0.131148</td>\n",
              "      <td>00:03</td>\n",
              "    </tr>\n",
              "    <tr>\n",
              "      <td>6</td>\n",
              "      <td>0.658984</td>\n",
              "      <td>0.440154</td>\n",
              "      <td>0.836066</td>\n",
              "      <td>0.163934</td>\n",
              "      <td>00:03</td>\n",
              "    </tr>\n",
              "    <tr>\n",
              "      <td>7</td>\n",
              "      <td>0.603308</td>\n",
              "      <td>0.243936</td>\n",
              "      <td>0.885246</td>\n",
              "      <td>0.114754</td>\n",
              "      <td>00:03</td>\n",
              "    </tr>\n",
              "    <tr>\n",
              "      <td>8</td>\n",
              "      <td>0.550244</td>\n",
              "      <td>0.345046</td>\n",
              "      <td>0.885246</td>\n",
              "      <td>0.114754</td>\n",
              "      <td>00:03</td>\n",
              "    </tr>\n",
              "    <tr>\n",
              "      <td>9</td>\n",
              "      <td>0.499957</td>\n",
              "      <td>0.272751</td>\n",
              "      <td>0.885246</td>\n",
              "      <td>0.114754</td>\n",
              "      <td>00:03</td>\n",
              "    </tr>\n",
              "    <tr>\n",
              "      <td>10</td>\n",
              "      <td>0.449021</td>\n",
              "      <td>0.115227</td>\n",
              "      <td>0.967213</td>\n",
              "      <td>0.032787</td>\n",
              "      <td>00:03</td>\n",
              "    </tr>\n",
              "    <tr>\n",
              "      <td>11</td>\n",
              "      <td>0.411044</td>\n",
              "      <td>0.135050</td>\n",
              "      <td>0.950820</td>\n",
              "      <td>0.049180</td>\n",
              "      <td>00:03</td>\n",
              "    </tr>\n",
              "    <tr>\n",
              "      <td>12</td>\n",
              "      <td>0.371974</td>\n",
              "      <td>0.075943</td>\n",
              "      <td>0.983607</td>\n",
              "      <td>0.016393</td>\n",
              "      <td>00:03</td>\n",
              "    </tr>\n",
              "    <tr>\n",
              "      <td>13</td>\n",
              "      <td>0.330721</td>\n",
              "      <td>0.063799</td>\n",
              "      <td>0.983607</td>\n",
              "      <td>0.016393</td>\n",
              "      <td>00:03</td>\n",
              "    </tr>\n",
              "    <tr>\n",
              "      <td>14</td>\n",
              "      <td>0.303719</td>\n",
              "      <td>0.043371</td>\n",
              "      <td>1.000000</td>\n",
              "      <td>0.000000</td>\n",
              "      <td>00:03</td>\n",
              "    </tr>\n",
              "    <tr>\n",
              "      <td>15</td>\n",
              "      <td>0.273642</td>\n",
              "      <td>0.040485</td>\n",
              "      <td>1.000000</td>\n",
              "      <td>0.000000</td>\n",
              "      <td>00:03</td>\n",
              "    </tr>\n",
              "    <tr>\n",
              "      <td>16</td>\n",
              "      <td>0.248186</td>\n",
              "      <td>0.042395</td>\n",
              "      <td>0.983607</td>\n",
              "      <td>0.016393</td>\n",
              "      <td>00:03</td>\n",
              "    </tr>\n",
              "    <tr>\n",
              "      <td>17</td>\n",
              "      <td>0.230695</td>\n",
              "      <td>0.038949</td>\n",
              "      <td>0.983607</td>\n",
              "      <td>0.016393</td>\n",
              "      <td>00:03</td>\n",
              "    </tr>\n",
              "    <tr>\n",
              "      <td>18</td>\n",
              "      <td>0.211278</td>\n",
              "      <td>0.037257</td>\n",
              "      <td>1.000000</td>\n",
              "      <td>0.000000</td>\n",
              "      <td>00:04</td>\n",
              "    </tr>\n",
              "    <tr>\n",
              "      <td>19</td>\n",
              "      <td>0.197965</td>\n",
              "      <td>0.037006</td>\n",
              "      <td>1.000000</td>\n",
              "      <td>0.000000</td>\n",
              "      <td>00:03</td>\n",
              "    </tr>\n",
              "  </tbody>\n",
              "</table>"
            ]
          },
          "metadata": {}
        }
      ]
    },
    {
      "cell_type": "markdown",
      "source": [
        "### 7. Validate the results"
      ],
      "metadata": {
        "id": "Rvlb0-hJjoyW"
      }
    },
    {
      "cell_type": "code",
      "source": [
        "# After training, checking the results to see how it performs\n",
        "model.show_results(15)"
      ],
      "metadata": {
        "id": "17PIcJTxjQZJ",
        "colab": {
          "base_uri": "https://localhost:8080/",
          "height": 519
        },
        "outputId": "a548ecef-074a-41af-b5a2-a7b76c4b7d78"
      },
      "execution_count": 26,
      "outputs": [
        {
          "output_type": "display_data",
          "data": {
            "text/plain": [
              "<pandas.io.formats.style.Styler at 0x7fd1d42311c0>"
            ],
            "text/html": [
              "<style type=\"text/css\">\n",
              "#T_1ee9a_ th {\n",
              "  text-align: left;\n",
              "}\n",
              "#T_1ee9a_row0_col0, #T_1ee9a_row0_col1, #T_1ee9a_row0_col2, #T_1ee9a_row1_col0, #T_1ee9a_row1_col1, #T_1ee9a_row1_col2, #T_1ee9a_row2_col0, #T_1ee9a_row2_col1, #T_1ee9a_row2_col2, #T_1ee9a_row3_col0, #T_1ee9a_row3_col1, #T_1ee9a_row3_col2, #T_1ee9a_row4_col0, #T_1ee9a_row4_col1, #T_1ee9a_row4_col2, #T_1ee9a_row5_col0, #T_1ee9a_row5_col1, #T_1ee9a_row5_col2, #T_1ee9a_row6_col0, #T_1ee9a_row6_col1, #T_1ee9a_row6_col2, #T_1ee9a_row7_col0, #T_1ee9a_row7_col1, #T_1ee9a_row7_col2, #T_1ee9a_row8_col0, #T_1ee9a_row8_col1, #T_1ee9a_row8_col2, #T_1ee9a_row9_col0, #T_1ee9a_row9_col1, #T_1ee9a_row9_col2, #T_1ee9a_row10_col0, #T_1ee9a_row10_col1, #T_1ee9a_row10_col2, #T_1ee9a_row11_col0, #T_1ee9a_row11_col1, #T_1ee9a_row11_col2, #T_1ee9a_row12_col0, #T_1ee9a_row12_col1, #T_1ee9a_row12_col2, #T_1ee9a_row13_col0, #T_1ee9a_row13_col1, #T_1ee9a_row13_col2, #T_1ee9a_row14_col0, #T_1ee9a_row14_col1, #T_1ee9a_row14_col2 {\n",
              "  text-align: left;\n",
              "}\n",
              "</style>\n",
              "<table id=\"T_1ee9a_\" class=\"dataframe\">\n",
              "  <thead>\n",
              "    <tr>\n",
              "      <th class=\"col_heading level0 col0\" >text</th>\n",
              "      <th class=\"col_heading level0 col1\" >target</th>\n",
              "      <th class=\"col_heading level0 col2\" >prediction</th>\n",
              "    </tr>\n",
              "  </thead>\n",
              "  <tbody>\n",
              "    <tr>\n",
              "      <td id=\"T_1ee9a_row0_col0\" class=\"data row0 col0\" >2, CURRIE CRESCENT, UNIT 2D, GRIFFITH, ACT, 2603</td>\n",
              "      <td id=\"T_1ee9a_row0_col1\" class=\"data row0 col1\" >AU</td>\n",
              "      <td id=\"T_1ee9a_row0_col2\" class=\"data row0 col2\" >AU</td>\n",
              "    </tr>\n",
              "    <tr>\n",
              "      <td id=\"T_1ee9a_row1_col0\" class=\"data row1 col0\" >227, TOORAK ROAD, UNIT 103, SOUTH YARRA, VIC, 3141</td>\n",
              "      <td id=\"T_1ee9a_row1_col1\" class=\"data row1 col1\" >AU</td>\n",
              "      <td id=\"T_1ee9a_row1_col2\" class=\"data row1 col2\" >AU</td>\n",
              "    </tr>\n",
              "    <tr>\n",
              "      <td id=\"T_1ee9a_row2_col0\" class=\"data row2 col0\" >7, LEICHHARDT STREET, UNIT 34, WAVERLEY, NSW, 2024</td>\n",
              "      <td id=\"T_1ee9a_row2_col1\" class=\"data row2 col1\" >AU</td>\n",
              "      <td id=\"T_1ee9a_row2_col2\" class=\"data row2 col2\" >AU</td>\n",
              "    </tr>\n",
              "    <tr>\n",
              "      <td id=\"T_1ee9a_row3_col0\" class=\"data row3 col0\" >35, ANGELO STREET, UNIT 14, SOUTH PERTH, WA, 6151</td>\n",
              "      <td id=\"T_1ee9a_row3_col1\" class=\"data row3 col1\" >AU</td>\n",
              "      <td id=\"T_1ee9a_row3_col2\" class=\"data row3 col2\" >AU</td>\n",
              "    </tr>\n",
              "    <tr>\n",
              "      <td id=\"T_1ee9a_row4_col0\" class=\"data row4 col0\" >7-11, HAPPY VALLEY ROAD, PORT LINCOLN, SA, 5606</td>\n",
              "      <td id=\"T_1ee9a_row4_col1\" class=\"data row4 col1\" >AU</td>\n",
              "      <td id=\"T_1ee9a_row4_col2\" class=\"data row4 col2\" >AU</td>\n",
              "    </tr>\n",
              "    <tr>\n",
              "      <td id=\"T_1ee9a_row5_col0\" class=\"data row5 col0\" >11, DENHAM AVENUE, DENHAMS BEACH, NSW, 2536</td>\n",
              "      <td id=\"T_1ee9a_row5_col1\" class=\"data row5 col1\" >AU</td>\n",
              "      <td id=\"T_1ee9a_row5_col2\" class=\"data row5 col2\" >AU</td>\n",
              "    </tr>\n",
              "    <tr>\n",
              "      <td id=\"T_1ee9a_row6_col0\" class=\"data row6 col0\" >44, JONES STREET, MOOLOOLAH VALLEY, QLD, 4553</td>\n",
              "      <td id=\"T_1ee9a_row6_col1\" class=\"data row6 col1\" >AU</td>\n",
              "      <td id=\"T_1ee9a_row6_col2\" class=\"data row6 col2\" >AU</td>\n",
              "    </tr>\n",
              "    <tr>\n",
              "      <td id=\"T_1ee9a_row7_col0\" class=\"data row7 col0\" >36, GREYSTANES ROAD, GREYSTANES, NSW, 2145</td>\n",
              "      <td id=\"T_1ee9a_row7_col1\" class=\"data row7 col1\" >AU</td>\n",
              "      <td id=\"T_1ee9a_row7_col2\" class=\"data row7 col2\" >AU</td>\n",
              "    </tr>\n",
              "    <tr>\n",
              "      <td id=\"T_1ee9a_row8_col0\" class=\"data row8 col0\" >12, ARDEN AVENUE, DEVONPORT, TAS, 7310</td>\n",
              "      <td id=\"T_1ee9a_row8_col1\" class=\"data row8 col1\" >AU</td>\n",
              "      <td id=\"T_1ee9a_row8_col2\" class=\"data row8 col2\" >AU</td>\n",
              "    </tr>\n",
              "    <tr>\n",
              "      <td id=\"T_1ee9a_row9_col0\" class=\"data row9 col0\" >3280, OLIVIER-BEAULIEU, J4N0G8</td>\n",
              "      <td id=\"T_1ee9a_row9_col1\" class=\"data row9 col1\" >CA</td>\n",
              "      <td id=\"T_1ee9a_row9_col2\" class=\"data row9 col2\" >CA</td>\n",
              "    </tr>\n",
              "    <tr>\n",
              "      <td id=\"T_1ee9a_row10_col0\" class=\"data row10 col0\" >26, SHAMROCK COURT, CHUWAR, QLD, 4306</td>\n",
              "      <td id=\"T_1ee9a_row10_col1\" class=\"data row10 col1\" >AU</td>\n",
              "      <td id=\"T_1ee9a_row10_col2\" class=\"data row10 col2\" >AU</td>\n",
              "    </tr>\n",
              "    <tr>\n",
              "      <td id=\"T_1ee9a_row11_col0\" class=\"data row11 col0\" >17, SAXON STREET, BELFIELD, NSW, 2191</td>\n",
              "      <td id=\"T_1ee9a_row11_col1\" class=\"data row11 col1\" >AU</td>\n",
              "      <td id=\"T_1ee9a_row11_col2\" class=\"data row11 col2\" >AU</td>\n",
              "    </tr>\n",
              "    <tr>\n",
              "      <td id=\"T_1ee9a_row12_col0\" class=\"data row12 col0\" >24, LUMSDEN STREET, KILMORE, VIC, 3764</td>\n",
              "      <td id=\"T_1ee9a_row12_col1\" class=\"data row12 col1\" >AU</td>\n",
              "      <td id=\"T_1ee9a_row12_col2\" class=\"data row12 col2\" >AU</td>\n",
              "    </tr>\n",
              "    <tr>\n",
              "      <td id=\"T_1ee9a_row13_col0\" class=\"data row13 col0\" >4, Parelstraat, Sint-Jans-Molenbeek, 1080</td>\n",
              "      <td id=\"T_1ee9a_row13_col1\" class=\"data row13 col1\" >BE</td>\n",
              "      <td id=\"T_1ee9a_row13_col2\" class=\"data row13 col2\" >BE</td>\n",
              "    </tr>\n",
              "    <tr>\n",
              "      <td id=\"T_1ee9a_row14_col0\" class=\"data row14 col0\" >29A, Groenstraat, Sint-Katelijne-Waver, 2860</td>\n",
              "      <td id=\"T_1ee9a_row14_col1\" class=\"data row14 col1\" >BE</td>\n",
              "      <td id=\"T_1ee9a_row14_col2\" class=\"data row14 col2\" >BE</td>\n",
              "    </tr>\n",
              "  </tbody>\n",
              "</table>\n"
            ]
          },
          "metadata": {}
        }
      ]
    },
    {
      "cell_type": "markdown",
      "source": [
        "### 8. Test the model prediction on an input text"
      ],
      "metadata": {
        "id": "aZAYdGeKjwrI"
      }
    },
    {
      "cell_type": "code",
      "source": [
        "text = \"\"\"1016, 8A, CL RICARDO LEON - SANTA ANA (CARTAGENA), 30319\"\"\"\n",
        "print(model.predict(text))"
      ],
      "metadata": {
        "id": "BKMrLT2PjQXh",
        "colab": {
          "base_uri": "https://localhost:8080/"
        },
        "outputId": "5fd2845c-33c6-4a3e-a3c7-eec8b8d35eca"
      },
      "execution_count": 27,
      "outputs": [
        {
          "output_type": "stream",
          "name": "stdout",
          "text": [
            "('1016, 8A, CL RICARDO LEON - SANTA ANA (CARTAGENA), 30319', 'ES', 0.9965837001800537)\n"
          ]
        }
      ]
    },
    {
      "cell_type": "markdown",
      "source": [
        "### 9. Model metrics"
      ],
      "metadata": {
        "id": "sBSQuM6kj2vi"
      }
    },
    {
      "cell_type": "code",
      "source": [
        "# Check to see how accurate the model is in correctly predicting the classes in the dataset\n",
        "model.accuracy()"
      ],
      "metadata": {
        "id": "kmLP80s3jQTu",
        "colab": {
          "base_uri": "https://localhost:8080/"
        },
        "outputId": "bfb6bc51-97ca-47f8-97c7-a776e65e45e4"
      },
      "execution_count": 28,
      "outputs": [
        {
          "output_type": "execute_result",
          "data": {
            "text/plain": [
              "1.0"
            ]
          },
          "metadata": {},
          "execution_count": 28
        }
      ]
    },
    {
      "cell_type": "code",
      "source": [
        "# Also check precision, recall & f1 scores per label/class\n",
        "model.metrics_per_label()"
      ],
      "metadata": {
        "id": "0xv07pihjQSH",
        "colab": {
          "base_uri": "https://localhost:8080/",
          "height": 195
        },
        "outputId": "61ad4ca4-ffc8-4966-f2b5-83d89aa24fab"
      },
      "execution_count": 29,
      "outputs": [
        {
          "output_type": "display_data",
          "data": {
            "text/plain": [
              "<IPython.core.display.HTML object>"
            ],
            "text/html": [
              "\n",
              "<style>\n",
              "    /* Turns off some styling */\n",
              "    progress {\n",
              "        /* gets rid of default border in Firefox and Opera. */\n",
              "        border: none;\n",
              "        /* Needs to be in here for Safari polyfill so background images work as expected. */\n",
              "        background-size: auto;\n",
              "    }\n",
              "    progress:not([value]), progress:not([value])::-webkit-progress-bar {\n",
              "        background: repeating-linear-gradient(45deg, #7e7e7e, #7e7e7e 10px, #5c5c5c 10px, #5c5c5c 20px);\n",
              "    }\n",
              "    .progress-bar-interrupted, .progress-bar-interrupted::-webkit-progress-bar {\n",
              "        background: #F44336;\n",
              "    }\n",
              "</style>\n"
            ]
          },
          "metadata": {}
        },
        {
          "output_type": "display_data",
          "data": {
            "text/plain": [
              "<IPython.core.display.HTML object>"
            ],
            "text/html": [
              "\n",
              "    <div>\n",
              "      <progress value='61' class='' max='61' style='width:300px; height:20px; vertical-align: middle;'></progress>\n",
              "      100.00% [61/61 00:00&lt;00:00]\n",
              "    </div>\n",
              "    "
            ]
          },
          "metadata": {}
        },
        {
          "output_type": "execute_result",
          "data": {
            "text/plain": [
              "    Precision_score  Recall_score  F1_score  Support\n",
              "AU           0.9286        1.0000    0.9630     13.0\n",
              "BE           1.0000        1.0000    1.0000     25.0\n",
              "CA           1.0000        0.9167    0.9565     12.0\n",
              "ES           1.0000        1.0000    1.0000     11.0"
            ],
            "text/html": [
              "\n",
              "  <div id=\"df-8f4dab2a-05bc-40ae-9dfa-f4e51a71b777\">\n",
              "    <div class=\"colab-df-container\">\n",
              "      <div>\n",
              "<style scoped>\n",
              "    .dataframe tbody tr th:only-of-type {\n",
              "        vertical-align: middle;\n",
              "    }\n",
              "\n",
              "    .dataframe tbody tr th {\n",
              "        vertical-align: top;\n",
              "    }\n",
              "\n",
              "    .dataframe thead th {\n",
              "        text-align: right;\n",
              "    }\n",
              "</style>\n",
              "<table border=\"1\" class=\"dataframe\">\n",
              "  <thead>\n",
              "    <tr style=\"text-align: right;\">\n",
              "      <th></th>\n",
              "      <th>Precision_score</th>\n",
              "      <th>Recall_score</th>\n",
              "      <th>F1_score</th>\n",
              "      <th>Support</th>\n",
              "    </tr>\n",
              "  </thead>\n",
              "  <tbody>\n",
              "    <tr>\n",
              "      <th>AU</th>\n",
              "      <td>0.9286</td>\n",
              "      <td>1.0000</td>\n",
              "      <td>0.9630</td>\n",
              "      <td>13.0</td>\n",
              "    </tr>\n",
              "    <tr>\n",
              "      <th>BE</th>\n",
              "      <td>1.0000</td>\n",
              "      <td>1.0000</td>\n",
              "      <td>1.0000</td>\n",
              "      <td>25.0</td>\n",
              "    </tr>\n",
              "    <tr>\n",
              "      <th>CA</th>\n",
              "      <td>1.0000</td>\n",
              "      <td>0.9167</td>\n",
              "      <td>0.9565</td>\n",
              "      <td>12.0</td>\n",
              "    </tr>\n",
              "    <tr>\n",
              "      <th>ES</th>\n",
              "      <td>1.0000</td>\n",
              "      <td>1.0000</td>\n",
              "      <td>1.0000</td>\n",
              "      <td>11.0</td>\n",
              "    </tr>\n",
              "  </tbody>\n",
              "</table>\n",
              "</div>\n",
              "      <button class=\"colab-df-convert\" onclick=\"convertToInteractive('df-8f4dab2a-05bc-40ae-9dfa-f4e51a71b777')\"\n",
              "              title=\"Convert this dataframe to an interactive table.\"\n",
              "              style=\"display:none;\">\n",
              "        \n",
              "  <svg xmlns=\"http://www.w3.org/2000/svg\" height=\"24px\"viewBox=\"0 0 24 24\"\n",
              "       width=\"24px\">\n",
              "    <path d=\"M0 0h24v24H0V0z\" fill=\"none\"/>\n",
              "    <path d=\"M18.56 5.44l.94 2.06.94-2.06 2.06-.94-2.06-.94-.94-2.06-.94 2.06-2.06.94zm-11 1L8.5 8.5l.94-2.06 2.06-.94-2.06-.94L8.5 2.5l-.94 2.06-2.06.94zm10 10l.94 2.06.94-2.06 2.06-.94-2.06-.94-.94-2.06-.94 2.06-2.06.94z\"/><path d=\"M17.41 7.96l-1.37-1.37c-.4-.4-.92-.59-1.43-.59-.52 0-1.04.2-1.43.59L10.3 9.45l-7.72 7.72c-.78.78-.78 2.05 0 2.83L4 21.41c.39.39.9.59 1.41.59.51 0 1.02-.2 1.41-.59l7.78-7.78 2.81-2.81c.8-.78.8-2.07 0-2.86zM5.41 20L4 18.59l7.72-7.72 1.47 1.35L5.41 20z\"/>\n",
              "  </svg>\n",
              "      </button>\n",
              "      \n",
              "  <style>\n",
              "    .colab-df-container {\n",
              "      display:flex;\n",
              "      flex-wrap:wrap;\n",
              "      gap: 12px;\n",
              "    }\n",
              "\n",
              "    .colab-df-convert {\n",
              "      background-color: #E8F0FE;\n",
              "      border: none;\n",
              "      border-radius: 50%;\n",
              "      cursor: pointer;\n",
              "      display: none;\n",
              "      fill: #1967D2;\n",
              "      height: 32px;\n",
              "      padding: 0 0 0 0;\n",
              "      width: 32px;\n",
              "    }\n",
              "\n",
              "    .colab-df-convert:hover {\n",
              "      background-color: #E2EBFA;\n",
              "      box-shadow: 0px 1px 2px rgba(60, 64, 67, 0.3), 0px 1px 3px 1px rgba(60, 64, 67, 0.15);\n",
              "      fill: #174EA6;\n",
              "    }\n",
              "\n",
              "    [theme=dark] .colab-df-convert {\n",
              "      background-color: #3B4455;\n",
              "      fill: #D2E3FC;\n",
              "    }\n",
              "\n",
              "    [theme=dark] .colab-df-convert:hover {\n",
              "      background-color: #434B5C;\n",
              "      box-shadow: 0px 1px 3px 1px rgba(0, 0, 0, 0.15);\n",
              "      filter: drop-shadow(0px 1px 2px rgba(0, 0, 0, 0.3));\n",
              "      fill: #FFFFFF;\n",
              "    }\n",
              "  </style>\n",
              "\n",
              "      <script>\n",
              "        const buttonEl =\n",
              "          document.querySelector('#df-8f4dab2a-05bc-40ae-9dfa-f4e51a71b777 button.colab-df-convert');\n",
              "        buttonEl.style.display =\n",
              "          google.colab.kernel.accessAllowed ? 'block' : 'none';\n",
              "\n",
              "        async function convertToInteractive(key) {\n",
              "          const element = document.querySelector('#df-8f4dab2a-05bc-40ae-9dfa-f4e51a71b777');\n",
              "          const dataTable =\n",
              "            await google.colab.kernel.invokeFunction('convertToInteractive',\n",
              "                                                     [key], {});\n",
              "          if (!dataTable) return;\n",
              "\n",
              "          const docLinkHtml = 'Like what you see? Visit the ' +\n",
              "            '<a target=\"_blank\" href=https://colab.research.google.com/notebooks/data_table.ipynb>data table notebook</a>'\n",
              "            + ' to learn more about interactive tables.';\n",
              "          element.innerHTML = '';\n",
              "          dataTable['output_type'] = 'display_data';\n",
              "          await google.colab.output.renderOutput(dataTable, element);\n",
              "          const docLink = document.createElement('div');\n",
              "          docLink.innerHTML = docLinkHtml;\n",
              "          element.appendChild(docLink);\n",
              "        }\n",
              "      </script>\n",
              "    </div>\n",
              "  </div>\n",
              "  "
            ]
          },
          "metadata": {},
          "execution_count": 29
        }
      ]
    },
    {
      "cell_type": "markdown",
      "source": [
        "### 10. Get misclassified records"
      ],
      "metadata": {
        "id": "6CYNMQ18kEHb"
      }
    },
    {
      "cell_type": "code",
      "source": [
        "# To get the misclassified records we will call the model's get_misclassified_records method\n",
        "misclassified_records = model.get_misclassified_records()"
      ],
      "metadata": {
        "id": "WmGCg3KsjQNy",
        "colab": {
          "base_uri": "https://localhost:8080/",
          "height": 37
        },
        "outputId": "5b85f080-bf7b-478d-be20-72c89c2b81ee"
      },
      "execution_count": 30,
      "outputs": [
        {
          "output_type": "display_data",
          "data": {
            "text/plain": [
              "<IPython.core.display.HTML object>"
            ],
            "text/html": [
              "\n",
              "<style>\n",
              "    /* Turns off some styling */\n",
              "    progress {\n",
              "        /* gets rid of default border in Firefox and Opera. */\n",
              "        border: none;\n",
              "        /* Needs to be in here for Safari polyfill so background images work as expected. */\n",
              "        background-size: auto;\n",
              "    }\n",
              "    progress:not([value]), progress:not([value])::-webkit-progress-bar {\n",
              "        background: repeating-linear-gradient(45deg, #7e7e7e, #7e7e7e 10px, #5c5c5c 10px, #5c5c5c 20px);\n",
              "    }\n",
              "    .progress-bar-interrupted, .progress-bar-interrupted::-webkit-progress-bar {\n",
              "        background: #F44336;\n",
              "    }\n",
              "</style>\n"
            ]
          },
          "metadata": {}
        },
        {
          "output_type": "display_data",
          "data": {
            "text/plain": [
              "<IPython.core.display.HTML object>"
            ],
            "text/html": [
              "\n",
              "    <div>\n",
              "      <progress value='61' class='' max='61' style='width:300px; height:20px; vertical-align: middle;'></progress>\n",
              "      100.00% [61/61 00:01&lt;00:00]\n",
              "    </div>\n",
              "    "
            ]
          },
          "metadata": {}
        }
      ]
    },
    {
      "cell_type": "code",
      "source": [
        "misclassified_records.style.set_table_styles([dict(selector='th', props=[('text-align', 'left')])])\\\n",
        "        .set_properties(**{'text-align': \"left\"}).hide_index()"
      ],
      "metadata": {
        "id": "pz7D2VhyjQLr",
        "colab": {
          "base_uri": "https://localhost:8080/",
          "height": 81
        },
        "outputId": "4b3143b7-b366-41e5-8a95-f2d52eb8549b"
      },
      "execution_count": 31,
      "outputs": [
        {
          "output_type": "execute_result",
          "data": {
            "text/plain": [
              "<pandas.io.formats.style.Styler at 0x7fd1d4231be0>"
            ],
            "text/html": [
              "<style type=\"text/css\">\n",
              "#T_68182_ th {\n",
              "  text-align: left;\n",
              "}\n",
              "#T_68182_row0_col0, #T_68182_row0_col1, #T_68182_row0_col2 {\n",
              "  text-align: left;\n",
              "}\n",
              "</style>\n",
              "<table id=\"T_68182_\" class=\"dataframe\">\n",
              "  <thead>\n",
              "    <tr>\n",
              "      <th class=\"col_heading level0 col0\" >Address</th>\n",
              "      <th class=\"col_heading level0 col1\" >Target</th>\n",
              "      <th class=\"col_heading level0 col2\" >Prediction</th>\n",
              "    </tr>\n",
              "  </thead>\n",
              "  <tbody>\n",
              "    <tr>\n",
              "      <td id=\"T_68182_row0_col0\" class=\"data row0 col0\" >3280, OLIVIER-BEAULIEU, J4N0G8</td>\n",
              "      <td id=\"T_68182_row0_col1\" class=\"data row0 col1\" >CA</td>\n",
              "      <td id=\"T_68182_row0_col2\" class=\"data row0 col2\" >AU</td>\n",
              "    </tr>\n",
              "  </tbody>\n",
              "</table>\n"
            ]
          },
          "metadata": {},
          "execution_count": 31
        }
      ]
    },
    {
      "cell_type": "markdown",
      "source": [
        "### 11. Save the model"
      ],
      "metadata": {
        "id": "1Q5HQ3EpQM60"
      }
    },
    {
      "cell_type": "code",
      "source": [
        "model.save('text-classifier')"
      ],
      "metadata": {
        "colab": {
          "base_uri": "https://localhost:8080/"
        },
        "id": "Q4J48wiyQRBP",
        "outputId": "3cb6f8a8-faf6-47be-ffb9-b9be2c620e29"
      },
      "execution_count": 32,
      "outputs": [
        {
          "output_type": "stream",
          "name": "stdout",
          "text": [
            "Computing model metrics...\n"
          ]
        },
        {
          "output_type": "execute_result",
          "data": {
            "text/plain": [
              "PosixPath('models/text-classifier')"
            ]
          },
          "metadata": {},
          "execution_count": 32
        }
      ]
    }
  ]
}